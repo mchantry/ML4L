{
 "cells": [
  {
   "cell_type": "code",
   "execution_count": null,
   "id": "befc4a88-3895-4073-89d6-19e31c1cda30",
   "metadata": {},
   "outputs": [],
   "source": [
    "if not os.path.exists('my_folder'):\n",
    "    os.makedirs('my_folder')"
   ]
  },
  {
   "cell_type": "code",
   "execution_count": 7,
   "id": "07a4e81f-4db2-431f-9c7e-23de51010971",
   "metadata": {},
   "outputs": [],
   "source": [
    "import os\n",
    "\n",
    "import time\n",
    "id = int(time.time())\n"
   ]
  },
  {
   "cell_type": "code",
   "execution_count": 8,
   "id": "13003c1d-148c-442a-a925-b33497783455",
   "metadata": {},
   "outputs": [
    {
     "data": {
      "text/plain": [
       "1647352972"
      ]
     },
     "execution_count": 8,
     "metadata": {},
     "output_type": "execute_result"
    }
   ],
   "source": [
    "id"
   ]
  },
  {
   "cell_type": "code",
   "execution_count": 10,
   "id": "1e912ea8-5e9a-44d9-9660-ff0d70d7c266",
   "metadata": {},
   "outputs": [],
   "source": [
    "output_path = '/network/group/aopp/predict/TIP016_PAXTON_RPSPEEDY/ML4L/'\n",
    "\n",
    "os.makedirs(output_path+f'ML_{str(id)}')\n"
   ]
  },
  {
   "cell_type": "code",
   "execution_count": null,
   "id": "0d7948c7-5918-4e94-9710-a9c4dcfbaeb8",
   "metadata": {},
   "outputs": [],
   "source": []
  }
 ],
 "metadata": {
  "kernelspec": {
   "display_name": "Python 3 (ipykernel)",
   "language": "python",
   "name": "python3"
  },
  "language_info": {
   "codemirror_mode": {
    "name": "ipython",
    "version": 3
   },
   "file_extension": ".py",
   "mimetype": "text/x-python",
   "name": "python",
   "nbconvert_exporter": "python",
   "pygments_lexer": "ipython3",
   "version": "3.7.12"
  }
 },
 "nbformat": 4,
 "nbformat_minor": 5
}
