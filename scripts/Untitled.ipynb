{
 "cells": [
  {
   "cell_type": "code",
   "execution_count": 1,
   "id": "f2b92537-306b-430c-a669-56ea7b44611c",
   "metadata": {},
   "outputs": [
    {
     "ename": "SyntaxError",
     "evalue": "invalid syntax (2205904584.py, line 1)",
     "output_type": "error",
     "traceback": [
      "\u001b[0;36m  File \u001b[0;32m\"/tmp/ipykernel_28633/2205904584.py\"\u001b[0;36m, line \u001b[0;32m1\u001b[0m\n\u001b[0;31m    python config.py\u001b[0m\n\u001b[0m           ^\u001b[0m\n\u001b[0;31mSyntaxError\u001b[0m\u001b[0;31m:\u001b[0m invalid syntax\n"
     ]
    }
   ],
   "source": [
    "python config.py"
   ]
  },
  {
   "cell_type": "code",
   "execution_count": 8,
   "id": "eeda058b-3cb2-419f-8ad4-5a5c43efb44c",
   "metadata": {},
   "outputs": [],
   "source": [
    "! python config.py"
   ]
  },
  {
   "cell_type": "code",
   "execution_count": 9,
   "id": "7e13a1f5-06d4-46cb-bc5f-189a3b2889d0",
   "metadata": {},
   "outputs": [
    {
     "name": "stdout",
     "output_type": "stream",
     "text": [
      "Traceback (most recent call last):\n",
      "  File \"download_CDS.py\", line 1, in <module>\n",
      "    import climetlab as cml\n",
      "ModuleNotFoundError: No module named 'climetlab'\n"
     ]
    }
   ],
   "source": [
    "!python download_CDS.py"
   ]
  },
  {
   "cell_type": "code",
   "execution_count": 10,
   "id": "af42f966-578a-44dc-9261-b7d26d0e9f5b",
   "metadata": {},
   "outputs": [
    {
     "name": "stdout",
     "output_type": "stream",
     "text": [
      "\n",
      "CommandNotFoundError: Your shell has not been properly configured to use 'conda activate'.\n",
      "To initialize your shell, run\n",
      "\n",
      "    $ conda init <SHELL_NAME>\n",
      "\n",
      "Currently supported shells are:\n",
      "  - bash\n",
      "  - fish\n",
      "  - tcsh\n",
      "  - xonsh\n",
      "  - zsh\n",
      "  - powershell\n",
      "\n",
      "See 'conda init --help' for more information and options.\n",
      "\n",
      "IMPORTANT: You may need to close and restart your shell after running 'conda init'.\n",
      "\n",
      "\n"
     ]
    }
   ],
   "source": [
    "! conda activate ML2"
   ]
  },
  {
   "cell_type": "code",
   "execution_count": 12,
   "id": "056906bb-f492-4dfc-b70c-e17d8f18c183",
   "metadata": {},
   "outputs": [
    {
     "name": "stdout",
     "output_type": "stream",
     "text": [
      "<xarray.Dataset>\n",
      "Dimensions:     (time: 744, values: 542080)\n",
      "Coordinates:\n",
      "  * time        (time) datetime64[ns] 2010-01-01 ... 2010-01-31T23:00:00\n",
      "    step        timedelta64[ns] ...\n",
      "    hybrid      float64 ...\n",
      "    latitude    (values) float64 ...\n",
      "    longitude   (values) float64 ...\n",
      "    valid_time  (time) datetime64[ns] ...\n",
      "Dimensions without coordinates: values\n",
      "Data variables:\n",
      "    q           (time, values) float32 ...\n",
      "Attributes:\n",
      "    GRIB_edition:            2\n",
      "    GRIB_centre:             ecmf\n",
      "    GRIB_centreDescription:  European Centre for Medium-Range Weather Forecasts\n",
      "    GRIB_subCentre:          0\n",
      "    Conventions:             CF-1.7\n",
      "    institution:             European Centre for Medium-Range Weather Forecasts\n",
      "    history:                 2021-12-01T14:09 GRIB to CDM+CF via cfgrib-0.9.9...\n"
     ]
    }
   ],
   "source": [
    "import xarray as xr\n",
    "\n",
    "\n",
    "\n",
    "root = '/network/group/aopp/predict/TIP016_PAXTON_RPSPEEDY/ML4L/ECMWF_files/'\n",
    "f = 'ml_skin_unstructured_2010_01.grib'\n",
    "f2 = 'sfc_skin2_unstructured_2010_01.grib'\n",
    "f3 = 'TEMP.grib'\n",
    "\n",
    "\n",
    "ds_grib = xr.open_dataset(root+f3, engine=\"cfgrib\")\n",
    "print (ds_grib)\n",
    "\n",
    "\n"
   ]
  },
  {
   "cell_type": "code",
   "execution_count": null,
   "id": "742be22d-a9ba-454d-9e74-e8d81245e116",
   "metadata": {},
   "outputs": [],
   "source": []
  }
 ],
 "metadata": {
  "kernelspec": {
   "display_name": "Python 3 (ipykernel)",
   "language": "python",
   "name": "python3"
  },
  "language_info": {
   "codemirror_mode": {
    "name": "ipython",
    "version": 3
   },
   "file_extension": ".py",
   "mimetype": "text/x-python",
   "name": "python",
   "nbconvert_exporter": "python",
   "pygments_lexer": "ipython3",
   "version": "3.8.12"
  }
 },
 "nbformat": 4,
 "nbformat_minor": 5
}
