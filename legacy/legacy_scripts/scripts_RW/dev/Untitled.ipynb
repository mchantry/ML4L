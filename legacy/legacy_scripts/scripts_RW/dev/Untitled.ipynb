{
 "cells": [
  {
   "cell_type": "code",
   "execution_count": 1,
   "id": "18f5418a-4c24-4ded-b079-ebb6a197355a",
   "metadata": {},
   "outputs": [],
   "source": [
    "import tensorflow as tf\n",
    "import numpy as np"
   ]
  },
  {
   "cell_type": "code",
   "execution_count": 2,
   "id": "21af9e51-e476-4d0c-aaaf-c77a36f1cd54",
   "metadata": {},
   "outputs": [],
   "source": [
    "# The following functions can be used to convert a value to a type compatible\n",
    "# with tf.train.Example.\n",
    "\n",
    "\n",
    "# https://gist.github.com/swyoon/8185b3dcf08ec728fb22b99016dd533f\n",
    "\n",
    "\n",
    "def _bytes_feature(value):\n",
    "    \"\"\"Returns a bytes_list from a string / byte.\"\"\"\n",
    "    if isinstance(value, type(tf.constant(0))):\n",
    "        value = value.numpy() # BytesList won't unpack a string from an EagerTensor.\n",
    "    return tf.train.Feature(bytes_list=tf.train.BytesList(value=[value]))\n",
    "\n",
    "def _float_feature(value):\n",
    "    \"\"\"Returns a float_list from a float / double.\"\"\"\n",
    "    return tf.train.Feature(float_list=tf.train.FloatList(value=[value]))\n",
    "\n",
    "def _int64_feature(value):\n",
    "    \"\"\"Returns an int64_list from a bool / enum / int / uint.\"\"\"\n",
    "    return tf.train.Feature(int64_list=tf.train.Int64List(value=[value]))\n"
   ]
  },
  {
   "cell_type": "code",
   "execution_count": 11,
   "id": "5c093ed1-4d08-4cea-ba0c-3c8e0196d731",
   "metadata": {},
   "outputs": [],
   "source": [
    "import pandas as pd\n",
    "\n",
    "f = '/network/group/aopp/predict/TIP016_PAXTON_RPSPEEDY/ML4L/ECMWF_files/raw/processed_data/joined_data/training_data/V2matched_0.pkl'\n",
    "example_file =pd.read_pickle(f)\n",
    "\n",
    "output = example_file['MODIS_LST']\n",
    "feature1 = example_file['t2m']\n",
    "feature2 = example_file['sp']\n",
    "\n",
    "#Make it a TF dataset\n",
    "#features_dataset = tf.data.Dataset.from_tensor_slices((feature0, feature1, feature2))"
   ]
  },
  {
   "cell_type": "code",
   "execution_count": null,
   "id": "23fb31e4-9f46-4d55-8f9c-a7f94406753f",
   "metadata": {},
   "outputs": [],
   "source": []
  },
  {
   "cell_type": "code",
   "execution_count": 22,
   "id": "d9362f67-53aa-485d-9d83-2f3b95c026d1",
   "metadata": {},
   "outputs": [],
   "source": [
    "xx = np.array([feature1,feature2]).T\n",
    "yy = np.array([output]).T"
   ]
  },
  {
   "cell_type": "code",
   "execution_count": 27,
   "id": "e55743aa-9026-4ee7-9359-86a680d40d58",
   "metadata": {},
   "outputs": [],
   "source": [
    "def _dtype_feature(ndarray):\n",
    "    \"\"\"match appropriate tf.train.Feature class with dtype of ndarray. \"\"\"\n",
    "    assert isinstance(ndarray, np.ndarray)\n",
    "    dtype_ = ndarray.dtype\n",
    "    if dtype_ == np.float64 or dtype_ == np.float32:\n",
    "        return lambda array: tf.train.Feature(float_list=tf.train.FloatList(value=array))\n",
    "    elif dtype_ == np.int64:\n",
    "        return lambda array: tf.train.Feature(int64_list=tf.train.Int64List(value=array))\n",
    "    else:  \n",
    "        raise ValueError(\"The input should be numpy ndarray. \\\n",
    "                           Instaed got {}\".format(ndarray.dtype))"
   ]
  },
  {
   "cell_type": "code",
   "execution_count": 32,
   "id": "445a15d4-056b-44a0-8df3-4336108f94b6",
   "metadata": {},
   "outputs": [],
   "source": [
    "# load appropriate tf.train.Feature class depending on dtype\n",
    "dtype_feature_x = _dtype_feature(xx)\n",
    "if yy is not None:\n",
    "    assert xx.shape[0] == yy.shape[0]\n",
    "    assert len(yy.shape) == 2\n",
    "    dtype_feature_y = _dtype_feature(yy)   "
   ]
  },
  {
   "cell_type": "code",
   "execution_count": 33,
   "id": "3373aac4-8327-460f-85b0-a8c028d23d6f",
   "metadata": {},
   "outputs": [
    {
     "name": "stdout",
     "output_type": "stream",
     "text": [
      "0 {'X': float_list {\n",
      "  value: 288.2857666015625\n",
      "  value: 100701.359375\n",
      "}\n",
      ", 'Y': float_list {\n",
      "  value: 293.8228759765625\n",
      "}\n",
      "}\n",
      "1 {'X': float_list {\n",
      "  value: 288.7896728515625\n",
      "  value: 100065.359375\n",
      "}\n",
      ", 'Y': float_list {\n",
      "  value: 288.6781921386719\n",
      "}\n",
      "}\n",
      "2 {'X': float_list {\n",
      "  value: 293.7974853515625\n",
      "  value: 99574.359375\n",
      "}\n",
      ", 'Y': float_list {\n",
      "  value: 288.4190979003906\n",
      "}\n",
      "}\n",
      "3 {'X': float_list {\n",
      "  value: 289.4127197265625\n",
      "  value: 100577.359375\n",
      "}\n",
      ", 'Y': float_list {\n",
      "  value: 289.18548583984375\n",
      "}\n",
      "}\n",
      "4 {'X': float_list {\n",
      "  value: 293.8853759765625\n",
      "  value: 99870.359375\n",
      "}\n",
      ", 'Y': float_list {\n",
      "  value: 289.48150634765625\n",
      "}\n",
      "}\n",
      "5 {'X': float_list {\n",
      "  value: 289.1978759765625\n",
      "  value: 101015.359375\n",
      "}\n",
      ", 'Y': float_list {\n",
      "  value: 299.8331298828125\n",
      "}\n",
      "}\n",
      "6 {'X': float_list {\n",
      "  value: 288.9517822265625\n",
      "  value: 100640.359375\n",
      "}\n",
      ", 'Y': float_list {\n",
      "  value: 298.2799987792969\n",
      "}\n",
      "}\n",
      "7 {'X': float_list {\n",
      "  value: 295.3658447265625\n",
      "  value: 101195.359375\n",
      "}\n",
      ", 'Y': float_list {\n",
      "  value: 299.31134033203125\n",
      "}\n",
      "}\n",
      "8 {'X': float_list {\n",
      "  value: 294.9068603515625\n",
      "  value: 100470.359375\n",
      "}\n",
      ", 'Y': float_list {\n",
      "  value: 299.7491760253906\n",
      "}\n",
      "}\n",
      "9 {'X': float_list {\n",
      "  value: 295.0084228515625\n",
      "  value: 98783.359375\n",
      "}\n",
      ", 'Y': float_list {\n",
      "  value: 297.8062744140625\n",
      "}\n",
      "}\n",
      "10 {'X': float_list {\n",
      "  value: 294.3482666015625\n",
      "  value: 99441.359375\n",
      "}\n",
      ", 'Y': float_list {\n",
      "  value: 298.39508056640625\n",
      "}\n",
      "}\n"
     ]
    }
   ],
   "source": [
    "\n",
    "counter = 0\n",
    "for idx in range(xx.shape[0]):\n",
    "    \n",
    "    x = xx[idx]\n",
    "    y = yy[idx]\n",
    "   \n",
    "    \n",
    "    \n",
    "    d_feature = {}\n",
    "    d_feature['X'] = dtype_feature_x(x)\n",
    "    d_feature['Y'] = dtype_feature_y(y)\n",
    "    \n",
    "    print (counter, d_feature)\n",
    "    \n",
    "    counter += 1\n",
    "    \n",
    "    if counter > 10:\n",
    "        break"
   ]
  },
  {
   "cell_type": "code",
   "execution_count": 6,
   "id": "9b4f85b2-ccba-426a-bc17-51b253583404",
   "metadata": {},
   "outputs": [
    {
     "data": {
      "text/plain": [
       "(3048183,)"
      ]
     },
     "execution_count": 6,
     "metadata": {},
     "output_type": "execute_result"
    }
   ],
   "source": [
    "for idx in range(X.shape[0]):\n",
    "        \n",
    "        if Y is not None:\n",
    "            y = Y[idx]\n",
    "        \n",
    "        d_feature = {}\n",
    "        d_feature['X'] = dtype_feature_x(x)\n",
    "        if Y is not None:\n",
    "            d_feature['Y'] = dtype_feature_y(y)\n",
    "            \n",
    "        features = tf.train.Features(feature=d_feature)\n",
    "        example = tf.train.Example(features=features)\n",
    "        serialized = example.SerializeToString()\n",
    "        writer.write(serialized)\n",
    "    \n",
    "    if verbose:\n",
    "        print \"Writing {} done!\".format(result_tf_file)"
   ]
  },
  {
   "cell_type": "code",
   "execution_count": 7,
   "id": "84f54002-6da6-4d49-afc4-97bb1789301d",
   "metadata": {},
   "outputs": [],
   "source": [
    "xx = np.random.randn(10,5)"
   ]
  },
  {
   "cell_type": "code",
   "execution_count": 10,
   "id": "104e8189-a17e-4856-a506-81059bc5c3da",
   "metadata": {},
   "outputs": [
    {
     "data": {
      "text/plain": [
       "(10, 5)"
      ]
     },
     "execution_count": 10,
     "metadata": {},
     "output_type": "execute_result"
    }
   ],
   "source": [
    "xx.shape"
   ]
  },
  {
   "cell_type": "code",
   "execution_count": 2,
   "id": "840b2c36-9517-4a1e-b3aa-df4f9abd2a09",
   "metadata": {},
   "outputs": [],
   "source": [
    "import numpy as np\n",
    "n_observations = int(1e4)\n",
    "\n",
    "feature0 = np.random.randn(n_observations)\n",
    "feature1 = np.random.randn(n_observations)\n",
    "feature2 = np.random.randn(n_observations)\n",
    "\n",
    "target = np.random.randn(n_observations)"
   ]
  },
  {
   "cell_type": "code",
   "execution_count": 4,
   "id": "f7bdfe92-9df6-481a-bdcc-7e8c09613157",
   "metadata": {},
   "outputs": [],
   "source": [
    "arr = np.array([feature0,feature1,feature2])"
   ]
  },
  {
   "cell_type": "code",
   "execution_count": 10,
   "id": "2d38500f-10c0-4362-a688-91e61fdd5196",
   "metadata": {},
   "outputs": [
    {
     "data": {
      "text/plain": [
       "array([ 0.61426363,  0.96893243, -0.50369289])"
      ]
     },
     "execution_count": 10,
     "metadata": {},
     "output_type": "execute_result"
    }
   ],
   "source": [
    "arr[:,1]"
   ]
  },
  {
   "cell_type": "code",
   "execution_count": 7,
   "id": "ffd51f27-dcc9-4084-8765-104cfa0851df",
   "metadata": {},
   "outputs": [
    {
     "data": {
      "text/plain": [
       "array([-1.53696206,  0.61426363, -0.08664522, ..., -0.19220176,\n",
       "       -1.91024974,  0.47559749])"
      ]
     },
     "execution_count": 7,
     "metadata": {},
     "output_type": "execute_result"
    }
   ],
   "source": [
    "feature0"
   ]
  },
  {
   "cell_type": "code",
   "execution_count": 8,
   "id": "6e1bc5df-c3d5-42bb-87b4-0f1976638515",
   "metadata": {},
   "outputs": [
    {
     "data": {
      "text/plain": [
       "array([-0.32268068,  0.96893243, -0.69018089, ..., -0.88925932,\n",
       "        0.7063832 ,  0.25811998])"
      ]
     },
     "execution_count": 8,
     "metadata": {},
     "output_type": "execute_result"
    }
   ],
   "source": [
    "feature1"
   ]
  },
  {
   "cell_type": "code",
   "execution_count": 9,
   "id": "72aae3a1-4b37-447a-8506-92574eacebdb",
   "metadata": {},
   "outputs": [
    {
     "data": {
      "text/plain": [
       "array([-0.20276881, -0.50369289, -0.12212577, ..., -1.16119987,\n",
       "       -2.49402951,  0.18709291])"
      ]
     },
     "execution_count": 9,
     "metadata": {},
     "output_type": "execute_result"
    }
   ],
   "source": [
    "feature2"
   ]
  },
  {
   "cell_type": "code",
   "execution_count": null,
   "id": "b3be2506-8ca0-4d12-8c51-fa3ec7706160",
   "metadata": {},
   "outputs": [],
   "source": []
  }
 ],
 "metadata": {
  "kernelspec": {
   "display_name": "Python 3 (ipykernel)",
   "language": "python",
   "name": "python3"
  },
  "language_info": {
   "codemirror_mode": {
    "name": "ipython",
    "version": 3
   },
   "file_extension": ".py",
   "mimetype": "text/x-python",
   "name": "python",
   "nbconvert_exporter": "python",
   "pygments_lexer": "ipython3",
   "version": "3.7.12"
  }
 },
 "nbformat": 4,
 "nbformat_minor": 5
}
