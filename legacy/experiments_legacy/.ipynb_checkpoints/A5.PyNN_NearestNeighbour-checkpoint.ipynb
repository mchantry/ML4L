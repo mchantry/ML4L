{
 "cells": [
  {
   "cell_type": "code",
   "execution_count": 7,
   "id": "f7c05696-29d6-428b-a575-9ac74d22ef31",
   "metadata": {},
   "outputs": [],
   "source": [
    "ERA_file = '/network/group/aopp/predict/TIP016_PAXTON_RPSPEEDY/ML4L/ECMWF_files/raw/processed_data/ERA_timevariable/ERA_2016_01.grib'\n",
    "MODIS_file = '/network/group/aopp/predict/TIP016_PAXTON_RPSPEEDY/ML4L/ECMWF_files/raw/MODIS/aquaDay_errorGTE03K_04km_2016-01-16.tif'"
   ]
  },
  {
   "cell_type": "code",
   "execution_count": 12,
   "id": "46e99ef5-4f0b-4739-a888-5974bf6580f3",
   "metadata": {},
   "outputs": [],
   "source": [
    "import xarray as xr\n"
   ]
  },
  {
   "cell_type": "code",
   "execution_count": 9,
   "id": "5cdeb704-7adb-42e6-b3fa-e85f404d9e44",
   "metadata": {},
   "outputs": [],
   "source": [
    "ERA_month = xr.open_dataset(ERA_file,engine='cfgrib',backend_kwargs={'indexpath': ''})\n"
   ]
  },
  {
   "cell_type": "code",
   "execution_count": 18,
   "id": "74b30001-92c5-4182-987a-5a60e39d7ed0",
   "metadata": {},
   "outputs": [],
   "source": [
    "timestamps = pd.to_datetime(ERA_month.time) \n"
   ]
  },
  {
   "cell_type": "code",
   "execution_count": 22,
   "id": "db689874-cf64-445e-8c8e-1c5669fc56e3",
   "metadata": {},
   "outputs": [],
   "source": [
    "t = timestamps[368] #iterate over every time (hour)"
   ]
  },
  {
   "cell_type": "code",
   "execution_count": 13,
   "id": "65a2b56b-df0f-4c63-b723-2bbdccc30670",
   "metadata": {},
   "outputs": [
    {
     "data": {
      "text/html": [
       "<div><svg style=\"position: absolute; width: 0; height: 0; overflow: hidden\">\n",
       "<defs>\n",
       "<symbol id=\"icon-database\" viewBox=\"0 0 32 32\">\n",
       "<path d=\"M16 0c-8.837 0-16 2.239-16 5v4c0 2.761 7.163 5 16 5s16-2.239 16-5v-4c0-2.761-7.163-5-16-5z\"></path>\n",
       "<path d=\"M16 17c-8.837 0-16-2.239-16-5v6c0 2.761 7.163 5 16 5s16-2.239 16-5v-6c0 2.761-7.163 5-16 5z\"></path>\n",
       "<path d=\"M16 26c-8.837 0-16-2.239-16-5v6c0 2.761 7.163 5 16 5s16-2.239 16-5v-6c0 2.761-7.163 5-16 5z\"></path>\n",
       "</symbol>\n",
       "<symbol id=\"icon-file-text2\" viewBox=\"0 0 32 32\">\n",
       "<path d=\"M28.681 7.159c-0.694-0.947-1.662-2.053-2.724-3.116s-2.169-2.030-3.116-2.724c-1.612-1.182-2.393-1.319-2.841-1.319h-15.5c-1.378 0-2.5 1.121-2.5 2.5v27c0 1.378 1.122 2.5 2.5 2.5h23c1.378 0 2.5-1.122 2.5-2.5v-19.5c0-0.448-0.137-1.23-1.319-2.841zM24.543 5.457c0.959 0.959 1.712 1.825 2.268 2.543h-4.811v-4.811c0.718 0.556 1.584 1.309 2.543 2.268zM28 29.5c0 0.271-0.229 0.5-0.5 0.5h-23c-0.271 0-0.5-0.229-0.5-0.5v-27c0-0.271 0.229-0.5 0.5-0.5 0 0 15.499-0 15.5 0v7c0 0.552 0.448 1 1 1h7v19.5z\"></path>\n",
       "<path d=\"M23 26h-14c-0.552 0-1-0.448-1-1s0.448-1 1-1h14c0.552 0 1 0.448 1 1s-0.448 1-1 1z\"></path>\n",
       "<path d=\"M23 22h-14c-0.552 0-1-0.448-1-1s0.448-1 1-1h14c0.552 0 1 0.448 1 1s-0.448 1-1 1z\"></path>\n",
       "<path d=\"M23 18h-14c-0.552 0-1-0.448-1-1s0.448-1 1-1h14c0.552 0 1 0.448 1 1s-0.448 1-1 1z\"></path>\n",
       "</symbol>\n",
       "</defs>\n",
       "</svg>\n",
       "<style>/* CSS stylesheet for displaying xarray objects in jupyterlab.\n",
       " *\n",
       " */\n",
       "\n",
       ":root {\n",
       "  --xr-font-color0: var(--jp-content-font-color0, rgba(0, 0, 0, 1));\n",
       "  --xr-font-color2: var(--jp-content-font-color2, rgba(0, 0, 0, 0.54));\n",
       "  --xr-font-color3: var(--jp-content-font-color3, rgba(0, 0, 0, 0.38));\n",
       "  --xr-border-color: var(--jp-border-color2, #e0e0e0);\n",
       "  --xr-disabled-color: var(--jp-layout-color3, #bdbdbd);\n",
       "  --xr-background-color: var(--jp-layout-color0, white);\n",
       "  --xr-background-color-row-even: var(--jp-layout-color1, white);\n",
       "  --xr-background-color-row-odd: var(--jp-layout-color2, #eeeeee);\n",
       "}\n",
       "\n",
       "html[theme=dark],\n",
       "body.vscode-dark {\n",
       "  --xr-font-color0: rgba(255, 255, 255, 1);\n",
       "  --xr-font-color2: rgba(255, 255, 255, 0.54);\n",
       "  --xr-font-color3: rgba(255, 255, 255, 0.38);\n",
       "  --xr-border-color: #1F1F1F;\n",
       "  --xr-disabled-color: #515151;\n",
       "  --xr-background-color: #111111;\n",
       "  --xr-background-color-row-even: #111111;\n",
       "  --xr-background-color-row-odd: #313131;\n",
       "}\n",
       "\n",
       ".xr-wrap {\n",
       "  display: block !important;\n",
       "  min-width: 300px;\n",
       "  max-width: 700px;\n",
       "}\n",
       "\n",
       ".xr-text-repr-fallback {\n",
       "  /* fallback to plain text repr when CSS is not injected (untrusted notebook) */\n",
       "  display: none;\n",
       "}\n",
       "\n",
       ".xr-header {\n",
       "  padding-top: 6px;\n",
       "  padding-bottom: 6px;\n",
       "  margin-bottom: 4px;\n",
       "  border-bottom: solid 1px var(--xr-border-color);\n",
       "}\n",
       "\n",
       ".xr-header > div,\n",
       ".xr-header > ul {\n",
       "  display: inline;\n",
       "  margin-top: 0;\n",
       "  margin-bottom: 0;\n",
       "}\n",
       "\n",
       ".xr-obj-type,\n",
       ".xr-array-name {\n",
       "  margin-left: 2px;\n",
       "  margin-right: 10px;\n",
       "}\n",
       "\n",
       ".xr-obj-type {\n",
       "  color: var(--xr-font-color2);\n",
       "}\n",
       "\n",
       ".xr-sections {\n",
       "  padding-left: 0 !important;\n",
       "  display: grid;\n",
       "  grid-template-columns: 150px auto auto 1fr 20px 20px;\n",
       "}\n",
       "\n",
       ".xr-section-item {\n",
       "  display: contents;\n",
       "}\n",
       "\n",
       ".xr-section-item input {\n",
       "  display: none;\n",
       "}\n",
       "\n",
       ".xr-section-item input + label {\n",
       "  color: var(--xr-disabled-color);\n",
       "}\n",
       "\n",
       ".xr-section-item input:enabled + label {\n",
       "  cursor: pointer;\n",
       "  color: var(--xr-font-color2);\n",
       "}\n",
       "\n",
       ".xr-section-item input:enabled + label:hover {\n",
       "  color: var(--xr-font-color0);\n",
       "}\n",
       "\n",
       ".xr-section-summary {\n",
       "  grid-column: 1;\n",
       "  color: var(--xr-font-color2);\n",
       "  font-weight: 500;\n",
       "}\n",
       "\n",
       ".xr-section-summary > span {\n",
       "  display: inline-block;\n",
       "  padding-left: 0.5em;\n",
       "}\n",
       "\n",
       ".xr-section-summary-in:disabled + label {\n",
       "  color: var(--xr-font-color2);\n",
       "}\n",
       "\n",
       ".xr-section-summary-in + label:before {\n",
       "  display: inline-block;\n",
       "  content: '►';\n",
       "  font-size: 11px;\n",
       "  width: 15px;\n",
       "  text-align: center;\n",
       "}\n",
       "\n",
       ".xr-section-summary-in:disabled + label:before {\n",
       "  color: var(--xr-disabled-color);\n",
       "}\n",
       "\n",
       ".xr-section-summary-in:checked + label:before {\n",
       "  content: '▼';\n",
       "}\n",
       "\n",
       ".xr-section-summary-in:checked + label > span {\n",
       "  display: none;\n",
       "}\n",
       "\n",
       ".xr-section-summary,\n",
       ".xr-section-inline-details {\n",
       "  padding-top: 4px;\n",
       "  padding-bottom: 4px;\n",
       "}\n",
       "\n",
       ".xr-section-inline-details {\n",
       "  grid-column: 2 / -1;\n",
       "}\n",
       "\n",
       ".xr-section-details {\n",
       "  display: none;\n",
       "  grid-column: 1 / -1;\n",
       "  margin-bottom: 5px;\n",
       "}\n",
       "\n",
       ".xr-section-summary-in:checked ~ .xr-section-details {\n",
       "  display: contents;\n",
       "}\n",
       "\n",
       ".xr-array-wrap {\n",
       "  grid-column: 1 / -1;\n",
       "  display: grid;\n",
       "  grid-template-columns: 20px auto;\n",
       "}\n",
       "\n",
       ".xr-array-wrap > label {\n",
       "  grid-column: 1;\n",
       "  vertical-align: top;\n",
       "}\n",
       "\n",
       ".xr-preview {\n",
       "  color: var(--xr-font-color3);\n",
       "}\n",
       "\n",
       ".xr-array-preview,\n",
       ".xr-array-data {\n",
       "  padding: 0 5px !important;\n",
       "  grid-column: 2;\n",
       "}\n",
       "\n",
       ".xr-array-data,\n",
       ".xr-array-in:checked ~ .xr-array-preview {\n",
       "  display: none;\n",
       "}\n",
       "\n",
       ".xr-array-in:checked ~ .xr-array-data,\n",
       ".xr-array-preview {\n",
       "  display: inline-block;\n",
       "}\n",
       "\n",
       ".xr-dim-list {\n",
       "  display: inline-block !important;\n",
       "  list-style: none;\n",
       "  padding: 0 !important;\n",
       "  margin: 0;\n",
       "}\n",
       "\n",
       ".xr-dim-list li {\n",
       "  display: inline-block;\n",
       "  padding: 0;\n",
       "  margin: 0;\n",
       "}\n",
       "\n",
       ".xr-dim-list:before {\n",
       "  content: '(';\n",
       "}\n",
       "\n",
       ".xr-dim-list:after {\n",
       "  content: ')';\n",
       "}\n",
       "\n",
       ".xr-dim-list li:not(:last-child):after {\n",
       "  content: ',';\n",
       "  padding-right: 5px;\n",
       "}\n",
       "\n",
       ".xr-has-index {\n",
       "  font-weight: bold;\n",
       "}\n",
       "\n",
       ".xr-var-list,\n",
       ".xr-var-item {\n",
       "  display: contents;\n",
       "}\n",
       "\n",
       ".xr-var-item > div,\n",
       ".xr-var-item label,\n",
       ".xr-var-item > .xr-var-name span {\n",
       "  background-color: var(--xr-background-color-row-even);\n",
       "  margin-bottom: 0;\n",
       "}\n",
       "\n",
       ".xr-var-item > .xr-var-name:hover span {\n",
       "  padding-right: 5px;\n",
       "}\n",
       "\n",
       ".xr-var-list > li:nth-child(odd) > div,\n",
       ".xr-var-list > li:nth-child(odd) > label,\n",
       ".xr-var-list > li:nth-child(odd) > .xr-var-name span {\n",
       "  background-color: var(--xr-background-color-row-odd);\n",
       "}\n",
       "\n",
       ".xr-var-name {\n",
       "  grid-column: 1;\n",
       "}\n",
       "\n",
       ".xr-var-dims {\n",
       "  grid-column: 2;\n",
       "}\n",
       "\n",
       ".xr-var-dtype {\n",
       "  grid-column: 3;\n",
       "  text-align: right;\n",
       "  color: var(--xr-font-color2);\n",
       "}\n",
       "\n",
       ".xr-var-preview {\n",
       "  grid-column: 4;\n",
       "}\n",
       "\n",
       ".xr-var-name,\n",
       ".xr-var-dims,\n",
       ".xr-var-dtype,\n",
       ".xr-preview,\n",
       ".xr-attrs dt {\n",
       "  white-space: nowrap;\n",
       "  overflow: hidden;\n",
       "  text-overflow: ellipsis;\n",
       "  padding-right: 10px;\n",
       "}\n",
       "\n",
       ".xr-var-name:hover,\n",
       ".xr-var-dims:hover,\n",
       ".xr-var-dtype:hover,\n",
       ".xr-attrs dt:hover {\n",
       "  overflow: visible;\n",
       "  width: auto;\n",
       "  z-index: 1;\n",
       "}\n",
       "\n",
       ".xr-var-attrs,\n",
       ".xr-var-data {\n",
       "  display: none;\n",
       "  background-color: var(--xr-background-color) !important;\n",
       "  padding-bottom: 5px !important;\n",
       "}\n",
       "\n",
       ".xr-var-attrs-in:checked ~ .xr-var-attrs,\n",
       ".xr-var-data-in:checked ~ .xr-var-data {\n",
       "  display: block;\n",
       "}\n",
       "\n",
       ".xr-var-data > table {\n",
       "  float: right;\n",
       "}\n",
       "\n",
       ".xr-var-name span,\n",
       ".xr-var-data,\n",
       ".xr-attrs {\n",
       "  padding-left: 25px !important;\n",
       "}\n",
       "\n",
       ".xr-attrs,\n",
       ".xr-var-attrs,\n",
       ".xr-var-data {\n",
       "  grid-column: 1 / -1;\n",
       "}\n",
       "\n",
       "dl.xr-attrs {\n",
       "  padding: 0;\n",
       "  margin: 0;\n",
       "  display: grid;\n",
       "  grid-template-columns: 125px auto;\n",
       "}\n",
       "\n",
       ".xr-attrs dt,\n",
       ".xr-attrs dd {\n",
       "  padding: 0;\n",
       "  margin: 0;\n",
       "  float: left;\n",
       "  padding-right: 10px;\n",
       "  width: auto;\n",
       "}\n",
       "\n",
       ".xr-attrs dt {\n",
       "  font-weight: normal;\n",
       "  grid-column: 1;\n",
       "}\n",
       "\n",
       ".xr-attrs dt:hover span {\n",
       "  display: inline-block;\n",
       "  background: var(--xr-background-color);\n",
       "  padding-right: 10px;\n",
       "}\n",
       "\n",
       ".xr-attrs dd {\n",
       "  grid-column: 2;\n",
       "  white-space: pre-wrap;\n",
       "  word-break: break-all;\n",
       "}\n",
       "\n",
       ".xr-icon-database,\n",
       ".xr-icon-file-text2 {\n",
       "  display: inline-block;\n",
       "  vertical-align: middle;\n",
       "  width: 1em;\n",
       "  height: 1.5em !important;\n",
       "  stroke-width: 0;\n",
       "  stroke: currentColor;\n",
       "  fill: currentColor;\n",
       "}\n",
       "</style><pre class='xr-text-repr-fallback'>&lt;xarray.DataArray &#x27;band_data&#x27; (band: 1, y: 5400, x: 10800)&gt;\n",
       "[58320000 values with dtype=float32]\n",
       "Coordinates:\n",
       "  * band         (band) int64 1\n",
       "  * x            (x) float64 -180.0 -179.9 -179.9 -179.9 ... 179.9 180.0 180.0\n",
       "  * y            (y) float64 89.98 89.95 89.92 89.88 ... -89.92 -89.95 -89.98\n",
       "    spatial_ref  int64 0\n",
       "Attributes:\n",
       "    long_name:  LST_Day_1km</pre><div class='xr-wrap' style='display:none'><div class='xr-header'><div class='xr-obj-type'>xarray.DataArray</div><div class='xr-array-name'>'band_data'</div><ul class='xr-dim-list'><li><span class='xr-has-index'>band</span>: 1</li><li><span class='xr-has-index'>y</span>: 5400</li><li><span class='xr-has-index'>x</span>: 10800</li></ul></div><ul class='xr-sections'><li class='xr-section-item'><div class='xr-array-wrap'><input id='section-c487d278-496d-416c-94c1-c983e18b0f5d' class='xr-array-in' type='checkbox' checked><label for='section-c487d278-496d-416c-94c1-c983e18b0f5d' title='Show/hide data repr'><svg class='icon xr-icon-database'><use xlink:href='#icon-database'></use></svg></label><div class='xr-array-preview xr-preview'><span>...</span></div><div class='xr-array-data'><pre>[58320000 values with dtype=float32]</pre></div></div></li><li class='xr-section-item'><input id='section-288b3657-6e65-4461-90e5-710a305422fc' class='xr-section-summary-in' type='checkbox'  checked><label for='section-288b3657-6e65-4461-90e5-710a305422fc' class='xr-section-summary' >Coordinates: <span>(4)</span></label><div class='xr-section-inline-details'></div><div class='xr-section-details'><ul class='xr-var-list'><li class='xr-var-item'><div class='xr-var-name'><span class='xr-has-index'>band</span></div><div class='xr-var-dims'>(band)</div><div class='xr-var-dtype'>int64</div><div class='xr-var-preview xr-preview'>1</div><input id='attrs-83881656-931d-4c3b-8427-8f1bc89ed16d' class='xr-var-attrs-in' type='checkbox' disabled><label for='attrs-83881656-931d-4c3b-8427-8f1bc89ed16d' title='Show/Hide attributes'><svg class='icon xr-icon-file-text2'><use xlink:href='#icon-file-text2'></use></svg></label><input id='data-8ea79f4c-88e9-47de-9334-f8425c557a47' class='xr-var-data-in' type='checkbox'><label for='data-8ea79f4c-88e9-47de-9334-f8425c557a47' title='Show/Hide data repr'><svg class='icon xr-icon-database'><use xlink:href='#icon-database'></use></svg></label><div class='xr-var-attrs'><dl class='xr-attrs'></dl></div><div class='xr-var-data'><pre>array([1])</pre></div></li><li class='xr-var-item'><div class='xr-var-name'><span class='xr-has-index'>x</span></div><div class='xr-var-dims'>(x)</div><div class='xr-var-dtype'>float64</div><div class='xr-var-preview xr-preview'>-180.0 -179.9 ... 180.0 180.0</div><input id='attrs-e413bf57-e480-4458-9c1e-e9f526006661' class='xr-var-attrs-in' type='checkbox' disabled><label for='attrs-e413bf57-e480-4458-9c1e-e9f526006661' title='Show/Hide attributes'><svg class='icon xr-icon-file-text2'><use xlink:href='#icon-file-text2'></use></svg></label><input id='data-d9e5d5e7-137d-4369-be6d-e16220058ae0' class='xr-var-data-in' type='checkbox'><label for='data-d9e5d5e7-137d-4369-be6d-e16220058ae0' title='Show/Hide data repr'><svg class='icon xr-icon-database'><use xlink:href='#icon-database'></use></svg></label><div class='xr-var-attrs'><dl class='xr-attrs'></dl></div><div class='xr-var-data'><pre>array([-179.983333, -179.95    , -179.916667, ...,  179.916667,  179.95    ,\n",
       "        179.983333])</pre></div></li><li class='xr-var-item'><div class='xr-var-name'><span class='xr-has-index'>y</span></div><div class='xr-var-dims'>(y)</div><div class='xr-var-dtype'>float64</div><div class='xr-var-preview xr-preview'>89.98 89.95 89.92 ... -89.95 -89.98</div><input id='attrs-065ff629-779f-46b9-9542-0c5305a754d9' class='xr-var-attrs-in' type='checkbox' disabled><label for='attrs-065ff629-779f-46b9-9542-0c5305a754d9' title='Show/Hide attributes'><svg class='icon xr-icon-file-text2'><use xlink:href='#icon-file-text2'></use></svg></label><input id='data-5010ac1e-7a74-4f46-b331-ca8d29d2ca5b' class='xr-var-data-in' type='checkbox'><label for='data-5010ac1e-7a74-4f46-b331-ca8d29d2ca5b' title='Show/Hide data repr'><svg class='icon xr-icon-database'><use xlink:href='#icon-database'></use></svg></label><div class='xr-var-attrs'><dl class='xr-attrs'></dl></div><div class='xr-var-data'><pre>array([ 89.983333,  89.95    ,  89.916667, ..., -89.916667, -89.95    ,\n",
       "       -89.983333])</pre></div></li><li class='xr-var-item'><div class='xr-var-name'><span>spatial_ref</span></div><div class='xr-var-dims'>()</div><div class='xr-var-dtype'>int64</div><div class='xr-var-preview xr-preview'>...</div><input id='attrs-0dc149af-9664-4812-998c-ecffb36cd57f' class='xr-var-attrs-in' type='checkbox' ><label for='attrs-0dc149af-9664-4812-998c-ecffb36cd57f' title='Show/Hide attributes'><svg class='icon xr-icon-file-text2'><use xlink:href='#icon-file-text2'></use></svg></label><input id='data-54991bca-e57f-4fb8-8973-c67ed583caea' class='xr-var-data-in' type='checkbox'><label for='data-54991bca-e57f-4fb8-8973-c67ed583caea' title='Show/Hide data repr'><svg class='icon xr-icon-database'><use xlink:href='#icon-database'></use></svg></label><div class='xr-var-attrs'><dl class='xr-attrs'><dt><span>crs_wkt :</span></dt><dd>GEOGCS[&quot;WGS 84&quot;,DATUM[&quot;WGS_1984&quot;,SPHEROID[&quot;WGS 84&quot;,6378137,298.257223563,AUTHORITY[&quot;EPSG&quot;,&quot;7030&quot;]],AUTHORITY[&quot;EPSG&quot;,&quot;6326&quot;]],PRIMEM[&quot;Greenwich&quot;,0],UNIT[&quot;degree&quot;,0.0174532925199433,AUTHORITY[&quot;EPSG&quot;,&quot;9122&quot;]],AXIS[&quot;Latitude&quot;,NORTH],AXIS[&quot;Longitude&quot;,EAST],AUTHORITY[&quot;EPSG&quot;,&quot;4326&quot;]]</dd><dt><span>semi_major_axis :</span></dt><dd>6378137.0</dd><dt><span>semi_minor_axis :</span></dt><dd>6356752.314245179</dd><dt><span>inverse_flattening :</span></dt><dd>298.257223563</dd><dt><span>reference_ellipsoid_name :</span></dt><dd>WGS 84</dd><dt><span>longitude_of_prime_meridian :</span></dt><dd>0.0</dd><dt><span>prime_meridian_name :</span></dt><dd>Greenwich</dd><dt><span>geographic_crs_name :</span></dt><dd>WGS 84</dd><dt><span>grid_mapping_name :</span></dt><dd>latitude_longitude</dd><dt><span>spatial_ref :</span></dt><dd>GEOGCS[&quot;WGS 84&quot;,DATUM[&quot;WGS_1984&quot;,SPHEROID[&quot;WGS 84&quot;,6378137,298.257223563,AUTHORITY[&quot;EPSG&quot;,&quot;7030&quot;]],AUTHORITY[&quot;EPSG&quot;,&quot;6326&quot;]],PRIMEM[&quot;Greenwich&quot;,0],UNIT[&quot;degree&quot;,0.0174532925199433,AUTHORITY[&quot;EPSG&quot;,&quot;9122&quot;]],AXIS[&quot;Latitude&quot;,NORTH],AXIS[&quot;Longitude&quot;,EAST],AUTHORITY[&quot;EPSG&quot;,&quot;4326&quot;]]</dd><dt><span>GeoTransform :</span></dt><dd>-180.0 0.03333333333333333 0.0 90.0 0.0 -0.03333333333333333</dd></dl></div><div class='xr-var-data'><pre>array(0)</pre></div></li></ul></div></li><li class='xr-section-item'><input id='section-29d15ca6-9c95-4ba0-9c3d-82622292281c' class='xr-section-summary-in' type='checkbox'  checked><label for='section-29d15ca6-9c95-4ba0-9c3d-82622292281c' class='xr-section-summary' >Attributes: <span>(1)</span></label><div class='xr-section-inline-details'></div><div class='xr-section-details'><dl class='xr-attrs'><dt><span>long_name :</span></dt><dd>LST_Day_1km</dd></dl></div></li></ul></div></div>"
      ],
      "text/plain": [
       "<xarray.DataArray 'band_data' (band: 1, y: 5400, x: 10800)>\n",
       "[58320000 values with dtype=float32]\n",
       "Coordinates:\n",
       "  * band         (band) int64 1\n",
       "  * x            (x) float64 -180.0 -179.9 -179.9 -179.9 ... 179.9 180.0 180.0\n",
       "  * y            (y) float64 89.98 89.95 89.92 89.88 ... -89.92 -89.95 -89.98\n",
       "    spatial_ref  int64 ...\n",
       "Attributes:\n",
       "    long_name:  LST_Day_1km"
      ]
     },
     "execution_count": 13,
     "metadata": {},
     "output_type": "execute_result"
    }
   ],
   "source": [
    "MODIS_data"
   ]
  },
  {
   "cell_type": "code",
   "execution_count": 16,
   "id": "9e205144-a012-49fb-bf45-c295945d111e",
   "metadata": {},
   "outputs": [],
   "source": [
    "#Prep MODIS data\n",
    "import numpy as np\n",
    "import pandas as pd\n",
    "latitude_bound = 70\n",
    "date_string = '2016-01-16'\n",
    "MODIS_data = xr.open_dataarray(MODIS_file,engine=\"rasterio\")\n",
    "\n",
    "\n",
    "#Make some edits to file\n",
    "MODIS_data = MODIS_data.rename({'x':'longitude','y':'latitude'})\n",
    "\n",
    "#Filter by latitude bound\n",
    "space_filter = np.expand_dims(np.abs(MODIS_data.latitude) < latitude_bound,axis=(0,-1))\n",
    "mask = np.logical_and(np.isfinite(MODIS_data),space_filter) #make it a 2d mask\n",
    "MODIS_data = MODIS_data.where(mask,drop=True)\n",
    "\n",
    "#Convert local satellite time to UTC and round to nearest hour\n",
    "time_delta = pd.to_timedelta(MODIS_data.longitude.data/15,unit='H') \n",
    "time_UTC = (pd.to_datetime([date_string + \" \" + \"13:30\"]*time_delta.shape[0]) - time_delta).round('H')\n",
    "\n",
    "\n",
    "\n",
    "\n",
    "\n",
    "\n",
    "\n"
   ]
  },
  {
   "cell_type": "code",
   "execution_count": 17,
   "id": "cd71e3a7-624e-4301-a9b4-60630e5dfc2d",
   "metadata": {},
   "outputs": [
    {
     "data": {
      "text/plain": [
       "DatetimeIndex(['2016-01-17 01:00:00', '2016-01-17 01:00:00',\n",
       "               '2016-01-17 01:00:00', '2016-01-17 01:00:00',\n",
       "               '2016-01-17 01:00:00', '2016-01-17 01:00:00',\n",
       "               '2016-01-17 01:00:00', '2016-01-17 01:00:00',\n",
       "               '2016-01-17 01:00:00', '2016-01-17 01:00:00',\n",
       "               ...\n",
       "               '2016-01-16 02:00:00', '2016-01-16 02:00:00',\n",
       "               '2016-01-16 02:00:00', '2016-01-16 02:00:00',\n",
       "               '2016-01-16 02:00:00', '2016-01-16 02:00:00',\n",
       "               '2016-01-16 02:00:00', '2016-01-16 02:00:00',\n",
       "               '2016-01-16 02:00:00', '2016-01-16 02:00:00'],\n",
       "              dtype='datetime64[ns]', length=10779, freq=None)"
      ]
     },
     "execution_count": 17,
     "metadata": {},
     "output_type": "execute_result"
    }
   ],
   "source": [
    "time_UTC"
   ]
  },
  {
   "cell_type": "code",
   "execution_count": 23,
   "id": "c034eb49-de08-44c8-9fa2-dbd33f1a05e8",
   "metadata": {},
   "outputs": [],
   "source": [
    "#Filter to only select the hour of data we want\n",
    "time_filter = np.expand_dims(time_UTC == t,axis=(0,1))\n",
    "mask = np.logical_and(np.isfinite(MODIS_data),time_filter)\n",
    "MODIS_hour = MODIS_data.where(mask,drop=True).load() \n",
    "MODIS_df = MODIS_hour.to_dataframe(name='MODIS_LST').reset_index().dropna() #Make everything a pandas df to pass into faiss_knn. Unnecessary step?\n"
   ]
  },
  {
   "cell_type": "code",
   "execution_count": 26,
   "id": "65d3bcaf-bd7c-429d-bd49-26ff20ed31fc",
   "metadata": {},
   "outputs": [],
   "source": [
    "delta = 1.0 # Enveloping box\n",
    "bounds = {\"latitude_min\" : MODIS_df.latitude.min()-delta,\n",
    "        \"latitude_max\" :   MODIS_df.latitude.max()+delta,\n",
    "        \"longitude_min\":   MODIS_df.longitude.min()-delta,\n",
    "        \"longitude_max\":   MODIS_df.longitude.max()+delta\n",
    "}"
   ]
  },
  {
   "cell_type": "code",
   "execution_count": 27,
   "id": "ced28493-844d-4bca-bb22-32b07c873abe",
   "metadata": {},
   "outputs": [],
   "source": [
    "#Filter month of ERA data to an hour\n",
    "time_filter = (ERA_month.time == t)\n",
    "ERA_hour = ERA_month.where(time_filter,drop=True)\n",
    "\n",
    "#And covert longitude to long1\n",
    "ERA_hour = ERA_hour.assign_coords({\"longitude\": (((ERA_hour.longitude + 180) % 360) - 180)})\n",
    "\n",
    "# Also filter by latitude/longtiude\n",
    "longitude_filter = (ERA_hour.longitude > bounds['longitude_min']) & (ERA_hour.longitude < bounds['longitude_max'])\n",
    "latitude_filter =  (ERA_hour.latitude > bounds['latitude_min']) & (ERA_hour.latitude < bounds['latitude_max'])\n",
    "ERA_snap = ERA_hour.where(longitude_filter & latitude_filter,drop=True)\n",
    "\n"
   ]
  },
  {
   "cell_type": "code",
   "execution_count": 29,
   "id": "8bc97a4e-d1c2-4217-a9d8-761b691921af",
   "metadata": {},
   "outputs": [],
   "source": [
    "ERA_df = ERA_snap.to_dataframe().reset_index()                # Make it a df\n"
   ]
  },
  {
   "cell_type": "code",
   "execution_count": 30,
   "id": "649a6ea1-f214-48ac-ac76-092b21d286ca",
   "metadata": {},
   "outputs": [],
   "source": [
    "import pynndescent\n",
    "\n",
    "def match(database,query):\n",
    "\n",
    "    #Construct NN     \n",
    "    NN = NearestNeighbors(n_neighbors=1, algorithm='ball_tree', leaf_size=60,metric='haversine') #algorithm = balltree, kdtree or brutie force\n",
    "\n",
    "\n",
    "    NN.fit(np.deg2rad(database[['latitude', 'longitude']].values))\n",
    "\n",
    "    query_lats = query['latitude'].astype(np.float64)\n",
    "    query_lons = query['longitude'].astype(np.float64)\n",
    "\n",
    "\n",
    "    X = np.deg2rad(np.c_[query_lats, query_lons])\n",
    "    distances, indices = NN.kneighbors(X, return_distance=True)\n",
    "\n",
    "\n",
    "    r_km = 6371 # multiplier to convert to km (from unit distance)\n",
    "    distances = distances*r_km\n",
    "\n",
    "    df = query.reset_index().join(database.iloc[indices.flatten()].reset_index(), lsuffix='_MODIS',rsuffix='_ERA')\n",
    "    df['H_distance'] = distances\n",
    "\n",
    "    #Filter out any large distances\n",
    "    tolerance = 50 #km\n",
    "    df_filtered = df.query('H_distance < %.9f' % tolerance)\n",
    "\n",
    "    #Group it. Each ERA point has a bunch of MODIS points. Group and average\n",
    "    df_grouped = df_filtered.groupby(['latitude_ERA','longitude_ERA'],as_index=False).mean()\n",
    "\n",
    "    return df_grouped\n"
   ]
  },
  {
   "cell_type": "code",
   "execution_count": 31,
   "id": "24071148-7589-47ac-993e-aa888fad910f",
   "metadata": {},
   "outputs": [],
   "source": [
    "#db = ERA_df\n",
    "index = pynndescent.NNDescent(ERA_df[['latitude', 'longitude']].values)"
   ]
  },
  {
   "cell_type": "code",
   "execution_count": 49,
   "id": "b0e20a53-c0e3-492e-8f41-16dadc3518bb",
   "metadata": {},
   "outputs": [
    {
     "name": "stdout",
     "output_type": "stream",
     "text": [
      "CPU times: user 1.47 s, sys: 168 ms, total: 1.63 s\n",
      "Wall time: 1.29 s\n"
     ]
    }
   ],
   "source": [
    "%%time\n"
   ]
  },
  {
   "cell_type": "code",
   "execution_count": 66,
   "id": "ac827ec3-6a5f-4271-b8e1-350c6de42f80",
   "metadata": {},
   "outputs": [
    {
     "name": "stderr",
     "output_type": "stream",
     "text": [
      "/home/k/kimpson/bin/conda/envs/workhorse/lib/python3.7/site-packages/scipy/sparse/_index.py:125: SparseEfficiencyWarning: Changing the sparsity structure of a csr_matrix is expensive. lil_matrix is more efficient.\n",
      "  self._set_arrayXarray(i, j, x)\n"
     ]
    },
    {
     "name": "stdout",
     "output_type": "stream",
     "text": [
      "CPU times: user 5.36 s, sys: 248 ms, total: 5.61 s\n",
      "Wall time: 5.22 s\n"
     ]
    }
   ],
   "source": [
    "%%time\n",
    "\n",
    "\n",
    "index = pynndescent.NNDescent(ERA_df[['latitude', 'longitude']].values,metric='haversine',n_jobs=2,n_neighbors=1)\n",
    "\n",
    "\n",
    "\n",
    "#query_lats = query['latitude'].astype(np.float64)\n",
    "#query_lons = query['longitude'].astype(np.float64)\n",
    "\n",
    "\n",
    "#X = np.deg2rad(np.c_[query_lats, query_lons])\n",
    "indices, distances = index.query(MODIS_df[['latitude', 'longitude']].values,k=1)\n",
    "\n"
   ]
  },
  {
   "cell_type": "code",
   "execution_count": 65,
   "id": "55169beb-5d85-4dec-bba7-11b32cb4a493",
   "metadata": {},
   "outputs": [
    {
     "data": {
      "text/plain": [
       "(array([[3975],\n",
       "        [3975],\n",
       "        [3975],\n",
       "        ...,\n",
       "        [3880],\n",
       "        [3880],\n",
       "        [3880]], dtype=int32),\n",
       " array([[0.21182735],\n",
       "        [0.21171144],\n",
       "        [0.20904586],\n",
       "        ...,\n",
       "        [2.0300627 ],\n",
       "        [2.0300117 ],\n",
       "        [2.029961  ]], dtype=float32))"
      ]
     },
     "execution_count": 65,
     "metadata": {},
     "output_type": "execute_result"
    }
   ],
   "source": [
    "neighbors"
   ]
  },
  {
   "cell_type": "code",
   "execution_count": 55,
   "id": "257d9090-1099-457f-a635-dcaacd67e891",
   "metadata": {},
   "outputs": [],
   "source": [
    "n1 = neighbors[0]\n",
    "n2 = neighbors[1]"
   ]
  },
  {
   "cell_type": "code",
   "execution_count": 62,
   "id": "77df04cb-68c3-4eba-b393-4ea9ec95a111",
   "metadata": {},
   "outputs": [
    {
     "data": {
      "text/plain": [
       "array([[   64,    87,   110, ...,   111,   109,   134],\n",
       "       [   64,    87,    65, ...,   111,   109,   134],\n",
       "       [   65,    88,   111, ...,    63,    86,   109],\n",
       "       ...,\n",
       "       [23983, 23960, 23982, ..., 23936, 24025, 24026],\n",
       "       [23983, 23960, 23982, ..., 23936, 24025, 24026],\n",
       "       [23983, 23960, 23937, ..., 24025, 24026, 23936]], dtype=int32)"
      ]
     },
     "execution_count": 62,
     "metadata": {},
     "output_type": "execute_result"
    }
   ],
   "source": [
    "n1"
   ]
  },
  {
   "cell_type": "code",
   "execution_count": 61,
   "id": "e8902cc3-564f-4b45-b9db-ac6f39ed0d38",
   "metadata": {},
   "outputs": [
    {
     "data": {
      "text/plain": [
       "(480098, 10)"
      ]
     },
     "metadata": {},
     "output_type": "display_data"
    },
    {
     "data": {
      "text/plain": [
       "(480098, 10)"
      ]
     },
     "metadata": {},
     "output_type": "display_data"
    },
    {
     "data": {
      "text/plain": [
       "(480098, 5)"
      ]
     },
     "metadata": {},
     "output_type": "display_data"
    }
   ],
   "source": [
    "display(n1.shape)\n",
    "display(n2.shape)\n",
    "display(MODIS_df.shape)"
   ]
  },
  {
   "cell_type": "code",
   "execution_count": 37,
   "id": "8e8f6de5-b542-41be-b83c-395c13d48baa",
   "metadata": {},
   "outputs": [],
   "source": [
    "from sklearn.neighbors import NearestNeighbors\n"
   ]
  },
  {
   "cell_type": "code",
   "execution_count": 39,
   "id": "603e68f4-ccaa-4e28-addf-f193225b2065",
   "metadata": {},
   "outputs": [
    {
     "name": "stdout",
     "output_type": "stream",
     "text": [
      "CPU times: user 39.5 ms, sys: 3.46 ms, total: 42.9 ms\n",
      "Wall time: 40.5 ms\n"
     ]
    },
    {
     "data": {
      "text/plain": [
       "NearestNeighbors(algorithm='ball_tree', leaf_size=60, metric='haversine',\n",
       "                 n_neighbors=1)"
      ]
     },
     "execution_count": 39,
     "metadata": {},
     "output_type": "execute_result"
    }
   ],
   "source": [
    "%%time  \n",
    "NN = NearestNeighbors(n_neighbors=1, algorithm='ball_tree', leaf_size=60,metric='haversine') #algorithm = balltree, kdtree or brutie force\n",
    "NN.fit(np.deg2rad(ERA_df[['latitude', 'longitude']].values))\n",
    "\n",
    "\n",
    "\n",
    "\n",
    "distances, indices = NN.kneighbors(np.deg2rad(ERA_df[['latitude', 'longitude']].values, return_distance=True)\n",
    "\n",
    "\n"
   ]
  },
  {
   "cell_type": "code",
   "execution_count": 41,
   "id": "9ab7e5ae-537c-473c-b4f7-467c3e8c166a",
   "metadata": {},
   "outputs": [
    {
     "name": "stdout",
     "output_type": "stream",
     "text": [
      "CPU times: user 14.3 s, sys: 0 ns, total: 14.3 s\n",
      "Wall time: 14.3 s\n"
     ]
    }
   ],
   "source": [
    "%%time\n",
    "query = MODIS_df\n",
    "query_lats = query['latitude'].astype(np.float64)\n",
    "query_lons = query['longitude'].astype(np.float64)\n",
    "\n",
    "\n",
    "X = np.deg2rad(np.c_[query_lats, query_lons])\n"
   ]
  },
  {
   "cell_type": "code",
   "execution_count": null,
   "id": "ad913718-c0eb-422f-b26b-6ced7b461ea6",
   "metadata": {},
   "outputs": [],
   "source": [
    "distances, indices = NN.kneighbors(X, return_distance=True)\n",
    "\n",
    "\n",
    "        r_km = 6371 # multiplier to convert to km (from unit distance)\n",
    "        distances = distances*r_km\n",
    "\n",
    "        df = query.reset_index().join(database.iloc[indices.flatten()].reset_index(), lsuffix='_MODIS',rsuffix='_ERA')\n",
    "        df['H_distance'] = distances"
   ]
  }
 ],
 "metadata": {
  "kernelspec": {
   "display_name": "Python 3 (ipykernel)",
   "language": "python",
   "name": "python3"
  },
  "language_info": {
   "codemirror_mode": {
    "name": "ipython",
    "version": 3
   },
   "file_extension": ".py",
   "mimetype": "text/x-python",
   "name": "python",
   "nbconvert_exporter": "python",
   "pygments_lexer": "ipython3",
   "version": "3.7.12"
  }
 },
 "nbformat": 4,
 "nbformat_minor": 5
}
