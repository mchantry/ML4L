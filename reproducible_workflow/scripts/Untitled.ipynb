{
 "cells": [
  {
   "cell_type": "code",
   "execution_count": 17,
   "id": "35e62ab8-119d-4696-b133-66161c512fca",
   "metadata": {},
   "outputs": [],
   "source": [
    "import glob\n",
    "\n",
    "root = '/network/group/aopp/predict/TIP016_PAXTON_RPSPEEDY/ML4L/ECMWF_files/raw/processed_data/joined_data/'\n",
    "\n",
    "\n",
    "d = 'training_data_with_monthly_lakes'\n",
    "input_files = glob.glob(f'{root}{d}/*.pkl')\n"
   ]
  },
  {
   "cell_type": "code",
   "execution_count": 18,
   "id": "7a2fae54-5448-4fc1-b652-62a68d7ac46c",
   "metadata": {},
   "outputs": [],
   "source": [
    "f = input_files[3]"
   ]
  },
  {
   "cell_type": "code",
   "execution_count": 19,
   "id": "3e81f473-8050-4106-9320-d3882f52bebb",
   "metadata": {},
   "outputs": [
    {
     "data": {
      "text/plain": [
       "'/network/group/aopp/predict/TIP016_PAXTON_RPSPEEDY/ML4L/ECMWF_files/raw/processed_data/joined_data/training_data_with_monthly_lakes/MAYmatched_11.pkl'"
      ]
     },
     "execution_count": 19,
     "metadata": {},
     "output_type": "execute_result"
    }
   ],
   "source": [
    "f"
   ]
  },
  {
   "cell_type": "code",
   "execution_count": 20,
   "id": "abb775b5-69b5-455c-b1e0-51f8a9972560",
   "metadata": {},
   "outputs": [],
   "source": [
    "def parse_filename(f):\n",
    "      \n",
    "    \"\"\"Map an input filename to an output filename\"\"\"\n",
    "    \n",
    "    subdir = f.split('/')[-2] \n",
    "    f1 = f.split('/')[-1].split('.pkl')[0]\n",
    "    fname = f'{f1}.tfrecords'\n",
    "    \n",
    "    output_file = f'{root}{subdir}/TFRecords/{fname}'\n",
    "    return output_file   "
   ]
  },
  {
   "cell_type": "code",
   "execution_count": 21,
   "id": "e1d17c4a-4e28-4f26-aa48-0511014a3bf3",
   "metadata": {},
   "outputs": [
    {
     "data": {
      "text/plain": [
       "'/network/group/aopp/predict/TIP016_PAXTON_RPSPEEDY/ML4L/ECMWF_files/raw/processed_data/joined_data/training_data_with_monthly_lakes/TFRecords/MAYmatched_11.tfrecords'"
      ]
     },
     "execution_count": 21,
     "metadata": {},
     "output_type": "execute_result"
    }
   ],
   "source": [
    "parse_filename(f)"
   ]
  },
  {
   "cell_type": "code",
   "execution_count": 10,
   "id": "8ebc1d2e-a42d-4006-bee8-0822eaec73c9",
   "metadata": {},
   "outputs": [],
   "source": [
    "subdir = f.split('/')[-2]\n",
    "fname = f.split('/')[-1].split('.pkl')[0]"
   ]
  },
  {
   "cell_type": "code",
   "execution_count": 11,
   "id": "df6f409a-f887-44ba-824e-07409bd92cc3",
   "metadata": {},
   "outputs": [
    {
     "data": {
      "text/plain": [
       "'validation_data_with_monthly_lakes'"
      ]
     },
     "execution_count": 11,
     "metadata": {},
     "output_type": "execute_result"
    }
   ],
   "source": [
    "subdir"
   ]
  },
  {
   "cell_type": "code",
   "execution_count": 12,
   "id": "985d34e0-bbe8-4019-bc0c-6d753dc9e777",
   "metadata": {},
   "outputs": [
    {
     "data": {
      "text/plain": [
       "'MAYmatched_21'"
      ]
     },
     "execution_count": 12,
     "metadata": {},
     "output_type": "execute_result"
    }
   ],
   "source": [
    "fname"
   ]
  },
  {
   "cell_type": "code",
   "execution_count": null,
   "id": "01ad3054-5321-4c67-b1be-4efbebb8ea1c",
   "metadata": {},
   "outputs": [],
   "source": []
  }
 ],
 "metadata": {
  "kernelspec": {
   "display_name": "Python 3 (ipykernel)",
   "language": "python",
   "name": "python3"
  },
  "language_info": {
   "codemirror_mode": {
    "name": "ipython",
    "version": 3
   },
   "file_extension": ".py",
   "mimetype": "text/x-python",
   "name": "python",
   "nbconvert_exporter": "python",
   "pygments_lexer": "ipython3",
   "version": "3.7.12"
  }
 },
 "nbformat": 4,
 "nbformat_minor": 5
}
