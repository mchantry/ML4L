{
 "cells": [
  {
   "cell_type": "code",
   "execution_count": 2,
   "id": "5e03931c-358c-4c21-9e33-ddb509e46bea",
   "metadata": {},
   "outputs": [
    {
     "name": "stdout",
     "output_type": "stream",
     "text": [
      "Loading a month of ERA data. These are large files so could take some time\n",
      "/network/group/aopp/predict/TIP016_PAXTON_RPSPEEDY/ML4L/ECMWF_files/raw/ERA_skin/sfc_skin_unstructured_2018_01.grib\n",
      "/network/group/aopp/predict/TIP016_PAXTON_RPSPEEDY/ML4L/ECMWF_files/raw/ERA_sfc/sfc_unstructured_2018_01.grib\n",
      "/network/group/aopp/predict/TIP016_PAXTON_RPSPEEDY/ML4L/ECMWF_files/raw/ERA_skt/skt_unstructured_2018_01.grib\n",
      "merge\n",
      "filter\n",
      "relabel\n"
     ]
    },
    {
     "ename": "SyntaxError",
     "evalue": "'return' outside function (1715689314.py, line 33)",
     "output_type": "error",
     "traceback": [
      "\u001b[0;36m  File \u001b[0;32m\"/tmp/ipykernel_40974/1715689314.py\"\u001b[0;36m, line \u001b[0;32m33\u001b[0m\n\u001b[0;31m    return ERA_land\u001b[0m\n\u001b[0m                   ^\u001b[0m\n\u001b[0;31mSyntaxError\u001b[0m\u001b[0;31m:\u001b[0m 'return' outside function\n"
     ]
    }
   ],
   "source": [
    "import xarray as xr\n",
    "era_folder = '/network/group/aopp/predict/TIP016_PAXTON_RPSPEEDY/ML4L/ECMWF_files/raw/'\n",
    "\n",
    "year_month = '2018_01'\n",
    "print ('Loading a month of ERA data. These are large files so could take some time')\n",
    "\n",
    "#All different data sources\n",
    "fskin = era_folder+'ERA_skin/sfc_skin_unstructured_'+year_month+'.grib'\n",
    "fsfc =  era_folder+'ERA_sfc/sfc_unstructured_'+year_month+'.grib'\n",
    "fskt =  era_folder+'ERA_skt/skt_unstructured_'+year_month+'.grib'\n",
    "print(fskin)\n",
    "print(fsfc)\n",
    "print(fskt)\n",
    "#Load month of data from different sources\n",
    "ds_skin = xr.open_dataset(fskin,engine='cfgrib',filter_by_keys={'typeOfLevel': 'surface'},backend_kwargs={'indexpath': ''})\n",
    "ds_sfc = xr.open_dataset(fsfc,engine='cfgrib',filter_by_keys={'typeOfLevel': 'surface'},backend_kwargs={'indexpath': ''})\n",
    "ds_skt = xr.open_dataset(fskt,engine='cfgrib',filter_by_keys={'typeOfLevel': 'surface'},backend_kwargs={'indexpath': ''})\n",
    "\n",
    "#...and merge it into one\n",
    "print('merge')\n",
    "ERA = xr.merge([ds_skin, ds_sfc,ds_skt])\n",
    "\n",
    "#Filter to just get land values\n",
    "print('filter')\n",
    "land_filter = (ERA.lsm > 0.5)\n",
    "ERA_land = ERA.where(land_filter,drop=True)\n",
    "\n",
    "\n",
    "print ('relabel')\n",
    "#Relabel longitude coordinate to be consistent with MODIS\n",
    "ERA_land = ERA_land.assign_coords({\"longitude\": (((ERA_land.longitude + 180) % 360) - 180)})\n",
    "\n",
    "\n"
   ]
  },
  {
   "cell_type": "code",
   "execution_count": null,
   "id": "1311d18e-3ae2-444d-85fc-6fe59d12ca07",
   "metadata": {},
   "outputs": [],
   "source": []
  }
 ],
 "metadata": {
  "kernelspec": {
   "display_name": "Python 3 (ipykernel)",
   "language": "python",
   "name": "python3"
  },
  "language_info": {
   "codemirror_mode": {
    "name": "ipython",
    "version": 3
   },
   "file_extension": ".py",
   "mimetype": "text/x-python",
   "name": "python",
   "nbconvert_exporter": "python",
   "pygments_lexer": "ipython3",
   "version": "3.7.12"
  }
 },
 "nbformat": 4,
 "nbformat_minor": 5
}
