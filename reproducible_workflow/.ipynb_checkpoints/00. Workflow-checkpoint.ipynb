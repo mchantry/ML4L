{
 "cells": [
  {
   "cell_type": "markdown",
   "id": "92a9eca6-9c24-437c-b6e5-e285a34a70ff",
   "metadata": {},
   "source": [
    "# ML4L Workflow\n",
    "\n",
    "The `ML4L` project is trying to use ML techniques to learn the land surface temperature (LST). \n",
    "\n",
    "This notebook attempts to track each stage of the project, from the raw data to the nice plots, to enable reproducible research.\n",
    "\n",
    "\n",
    "\n",
    "\n",
    "\n",
    "---\n",
    "# Table of contents\n",
    "1. [Raw Data](#rawdata) <br>\n",
    "\n",
    "    2. [SRaw Data](#Srawdata) <br>\n",
    "\n",
    "    1.1 [ERA5 Data](rawdata_ERA5) <br>\n",
    "         1.1.1 [Processing ERA5 data](rawdata_ERA5_process)\n",
    "    2. [MODIS Data](rawdata_MODIS)\n",
    "2. [Processed Data](#paragraph1)\n",
    "    1. [Sub paragraph](#subparagraph1)\n",
    "3. [Another paragraph](#paragraph2)\n",
    "\n",
    "\n",
    "---\n",
    "\n",
    "# 1. Raw Data <a name=\"rawdata\"></a>\n",
    "Any ML project needs data.\n",
    "\n",
    "We can split this into two main categories: inputs and outputs.\n",
    "\n",
    "Inputs are the features that go into our ML model. Outputs are the things we are trying to learn.\n",
    "\n",
    "For this project:\n",
    "\n",
    "* Inputs: ERA5 data\n",
    "\n",
    "* Outputs: MODIS data\n",
    "\n",
    "# 2. SRaw Data <a name=\"Srawdata\"></a>\n",
    "\n",
    "## 1A. ERA5 data <a name=\"rawdata_ERA5\"></a>\n",
    "\n",
    "\n",
    "We have a few different raw sources of ERA5 data provided by ECMWF\n",
    "\n",
    "**a)** ERA_sfc. 3 years of data (2018-2020), hourly grain. Features: `sp, msl, 10u, 10v, 2t.` "
   ]
  },
  {
   "cell_type": "code",
   "execution_count": 5,
   "id": "34ea2dbd-9c56-4149-80e7-f87383a8430f",
   "metadata": {},
   "outputs": [
    {
     "name": "stdout",
     "output_type": "stream",
     "text": [
      "/network/group/aopp/predict/TIP016_PAXTON_RPSPEEDY/ML4L/ECMWF_files/raw/ERA_sfc/sfc_unstructured_2018_01.grib\n",
      "edition      centre       typeOfLevel  level        dataDate     stepRange    dataType     shortName    packingType  gridType     \n",
      "1            ecmf         surface      0            20180101     0            an           sp           grid_simple  reduced_gg  \n",
      "1            ecmf         surface      0            20180101     0            an           msl          grid_simple  reduced_gg  \n",
      "1            ecmf         surface      0            20180101     0            an           10u          grid_simple  reduced_gg  \n",
      "1            ecmf         surface      0            20180101     0            an           10v          grid_simple  reduced_gg  \n",
      "1            ecmf         surface      0            20180101     0            an           2t           grid_simple  reduced_gg  \n",
      "1            ecmf         surface      0            20180101     0            an           sp           grid_simple  reduced_gg  \n",
      "1            ecmf         surface      0            20180101     0            an           msl          grid_simple  reduced_gg  \n",
      "1            ecmf         surface      0            20180101     0            an           10u          grid_simple  reduced_gg  \n"
     ]
    }
   ],
   "source": [
    "! grib_ls /network/group/aopp/predict/TIP016_PAXTON_RPSPEEDY/ML4L/ECMWF_files/raw/ERA_sfc/sfc_unstructured_2018_01.grib | head -10"
   ]
  },
  {
   "cell_type": "markdown",
   "id": "60cf3124-e550-4e05-865d-36c2b8138f2b",
   "metadata": {},
   "source": [
    "**b)** ERA_skin. 10 years of data (2010-2020), hourly grain. Features: `aluvp,aluvd,alnip ,alnid,cl,cvl,cvh,istl1,istl2,slt,sdfor,z,sd,sdor,isor,anor,slor\n",
    "2d,lsm,fal`\n",
    "\n"
   ]
  },
  {
   "cell_type": "code",
   "execution_count": 4,
   "id": "7840a95a-1f30-40f5-831e-238ea01bf10f",
   "metadata": {},
   "outputs": [
    {
     "name": "stdout",
     "output_type": "stream",
     "text": [
      "/network/group/aopp/predict/TIP016_PAXTON_RPSPEEDY/ML4L/ECMWF_files/raw/ERA_skin/sfc_skin_unstructured_2018_01.grib\n",
      "edition      centre       typeOfLevel  level        dataDate     stepRange    dataType     shortName    packingType  gridType     \n",
      "1            ecmf         surface      0            20180101     0            an           aluvp        grid_simple  reduced_gg  \n",
      "1            ecmf         surface      0            20180101     0            an           aluvd        grid_simple  reduced_gg  \n",
      "1            ecmf         surface      0            20180101     0            an           alnip        grid_simple  reduced_gg  \n",
      "1            ecmf         surface      0            20180101     0            an           alnid        grid_simple  reduced_gg  \n",
      "1            ecmf         surface      0            20180101     0            an           cl           grid_simple  reduced_gg  \n",
      "1            ecmf         surface      0            20180101     0            an           cvl          grid_simple  reduced_gg  \n",
      "1            ecmf         surface      0            20180101     0            an           cvh          grid_simple  reduced_gg  \n",
      "1            ecmf         depthBelowLandLayer  0            20180101     0            an           istl1        grid_simple  reduced_gg  \n",
      "1            ecmf         depthBelowLandLayer  7            20180101     0            an           istl2        grid_simple  reduced_gg  \n",
      "1            ecmf         surface      0            20180101     0            an           slt          grid_simple  reduced_gg  \n",
      "1            ecmf         surface      0            20180101     0            an           sdfor        grid_simple  reduced_gg  \n",
      "1            ecmf         surface      0            20180101     0            an           z            grid_simple  reduced_gg  \n",
      "1            ecmf         surface      0            20180101     0            an           sd           grid_simple  reduced_gg  \n",
      "1            ecmf         surface      0            20180101     0            an           sdor         grid_simple  reduced_gg  \n",
      "1            ecmf         surface      0            20180101     0            an           isor         grid_simple  reduced_gg  \n",
      "1            ecmf         surface      0            20180101     0            an           anor         grid_simple  reduced_gg  \n",
      "1            ecmf         surface      0            20180101     0            an           slor         grid_simple  reduced_gg  \n",
      "1            ecmf         surface      0            20180101     0            an           2d           grid_simple  reduced_gg  \n",
      "1            ecmf         surface      0            20180101     0            an           lsm          grid_simple  reduced_gg  \n",
      "1            ecmf         surface      0            20180101     0            an           fal          grid_simple  reduced_gg  \n",
      "1            ecmf         surface      0            20180101     0            an           aluvp        grid_simple  reduced_gg  \n",
      "1            ecmf         surface      0            20180101     0            an           aluvd        grid_simple  reduced_gg  \n",
      "1            ecmf         surface      0            20180101     0            an           alnip        grid_simple  reduced_gg  \n"
     ]
    }
   ],
   "source": [
    "! grib_ls /network/group/aopp/predict/TIP016_PAXTON_RPSPEEDY/ML4L/ECMWF_files/raw/ERA_skin/sfc_skin_unstructured_2018_01.grib | head -25"
   ]
  },
  {
   "cell_type": "markdown",
   "id": "d63fea12-df4c-40b2-b407-8eeea1a033c0",
   "metadata": {},
   "source": [
    "**c)** ERA_skt. 3 years of data (2018-2020), hourly grain. Features: `skt`"
   ]
  },
  {
   "cell_type": "code",
   "execution_count": 14,
   "id": "d39658b1-0451-4323-b634-f6d68a28c7d0",
   "metadata": {},
   "outputs": [
    {
     "name": "stdout",
     "output_type": "stream",
     "text": [
      "/network/group/aopp/predict/TIP016_PAXTON_RPSPEEDY/ML4L/ECMWF_files/raw/ERA_skt/skt_unstructured_2018_01.grib\n",
      "edition      centre       typeOfLevel  level        dataDate     stepRange    dataType     shortName    packingType  gridType     \n",
      "1            ecmf         surface      0            20180101     0            an           skt          grid_simple  reduced_gg  \n",
      "1            ecmf         surface      0            20180101     0            an           skt          grid_simple  reduced_gg  \n",
      "1            ecmf         surface      0            20180101     0            an           skt          grid_simple  reduced_gg  \n"
     ]
    }
   ],
   "source": [
    "! grib_ls /network/group/aopp/predict/TIP016_PAXTON_RPSPEEDY/ML4L/ECMWF_files/raw/ERA_skt/skt_unstructured_2018_01.grib | head -5"
   ]
  },
  {
   "cell_type": "markdown",
   "id": "c97b2d80-13be-4629-877c-8fc102fac36c",
   "metadata": {},
   "source": [
    "**d)** V15 surface. Some additional constant in time features. Overlaps with some data we already have. Note there also exist `clake` and `lsmoro`, which describe features we have above."
   ]
  },
  {
   "cell_type": "code",
   "execution_count": 11,
   "id": "d957a230-1b55-456a-a0bd-53837c1a460b",
   "metadata": {},
   "outputs": [
    {
     "name": "stdout",
     "output_type": "stream",
     "text": [
      "/network/group/aopp/predict/TIP016_PAXTON_RPSPEEDY/ML4L/ECMWF_files/raw/climate.v015/climate.v015/639l_2/sfc\n",
      "edition      centre       date         dataType     gridType     stepRange    typeOfLevel  level        shortName    packingType  \n",
      "2            ecmf         20131129     an           reduced_gg   0            surface      0            anor         grid_simple \n",
      "2            ecmf         20131129     an           reduced_gg   0            surface      0            isor         grid_simple \n",
      "2            ecmf         20131129     an           reduced_gg   0            surface      0            slor         grid_simple \n",
      "2            ecmf         20131129     an           reduced_gg   0            surface      0            sdor         grid_simple \n",
      "1            ecmf         19960101     not_found    reduced_gg   0            surface      0            sr           grid_simple \n",
      "1            ecmf         19960101     not_found    reduced_gg   0            surface      0            lsrh         grid_simple \n",
      "2            ecmf         20151011     an           reduced_gg   0            surface      0            cvh          grid_simple \n",
      "2            ecmf         20151011     an           reduced_gg   0            surface      0            cvl          grid_simple \n",
      "1            ecmf         19960101     not_found    reduced_gg   0            surface      0            tvh          grid_simple \n",
      "1            ecmf         19960101     not_found    reduced_gg   0            surface      0            tvl          grid_simple \n",
      "10 of 10 messages in /network/group/aopp/predict/TIP016_PAXTON_RPSPEEDY/ML4L/ECMWF_files/raw/climate.v015/climate.v015/639l_2/sfc\n",
      "\n",
      "10 of 10 total messages in 1 files\n"
     ]
    }
   ],
   "source": [
    "! grib_ls /network/group/aopp/predict/TIP016_PAXTON_RPSPEEDY/ML4L/ECMWF_files/raw/climate.v015/climate.v015/639l_2/sfc "
   ]
  },
  {
   "cell_type": "markdown",
   "id": "47210d0e-780a-4f4f-b7db-395d34fd68d6",
   "metadata": {},
   "source": [
    "**e)** V20 surface. More up to date (version 20) fields. Overlaps with some data we already have:"
   ]
  },
  {
   "cell_type": "code",
   "execution_count": 13,
   "id": "964812c5-b399-4b31-9b9c-b3991244f090",
   "metadata": {},
   "outputs": [
    {
     "name": "stdout",
     "output_type": "stream",
     "text": [
      "/network/group/aopp/predict/TIP016_PAXTON_RPSPEEDY/ML4L/ECMWF_files/raw/climate.v020/climate.v020/639l_2/clake\n",
      "edition      centre       date         dataType     gridType     stepRange    typeOfLevel  level        shortName    packingType  \n",
      "2            ecmf         20110131     af           reduced_gg   0            surface      0            cl           grid_simple \n",
      "1 of 1 messages in /network/group/aopp/predict/TIP016_PAXTON_RPSPEEDY/ML4L/ECMWF_files/raw/climate.v020/climate.v020/639l_2/clake\n",
      "\n",
      "1 of 1 total messages in 1 files\n",
      "/network/group/aopp/predict/TIP016_PAXTON_RPSPEEDY/ML4L/ECMWF_files/raw/climate.v020/climate.v020/639l_2/lsmoro\n",
      "edition      centre       date         dataType     gridType     stepRange    typeOfLevel  level        shortName    packingType  \n",
      "2            ecmf         20210222     an           reduced_gg   0            surface      0            lsm          grid_simple \n",
      "2            ecmf         20210222     an           reduced_gg   0            surface      0            z            grid_simple \n",
      "2 of 2 messages in /network/group/aopp/predict/TIP016_PAXTON_RPSPEEDY/ML4L/ECMWF_files/raw/climate.v020/climate.v020/639l_2/lsmoro\n",
      "\n",
      "2 of 2 total messages in 1 files\n",
      "/network/group/aopp/predict/TIP016_PAXTON_RPSPEEDY/ML4L/ECMWF_files/raw/climate.v020/climate.v020/639l_2/sfc\n",
      "edition      centre       date         dataType     gridType     stepRange    typeOfLevel  level        shortName    packingType  \n",
      "2            ecmf         20110131     an           reduced_gg   0            surface      0            anor         grid_simple \n",
      "2            ecmf         20110131     an           reduced_gg   0            surface      0            isor         grid_simple \n",
      "2            ecmf         20110131     an           reduced_gg   0            surface      0            slor         grid_simple \n",
      "2            ecmf         20110131     an           reduced_gg   0            surface      0            sdor         grid_simple \n",
      "2            ecmf         19960101     missing      reduced_gg   0            surface      0            sr           grid_simple \n",
      "2            ecmf         19960101     missing      reduced_gg   0            surface      0            lsrh         grid_simple \n",
      "2            ecmf         20210222     an           reduced_gg   0            surface      0            cvh          grid_simple \n",
      "2            ecmf         20210222     an           reduced_gg   0            surface      0            cvl          grid_simple \n",
      "2            ecmf         19960101     missing      reduced_gg   0            surface      0            tvh          grid_simple \n",
      "2            ecmf         19960101     missing      reduced_gg   0            surface      0            tvl          grid_simple \n",
      "10 of 10 messages in /network/group/aopp/predict/TIP016_PAXTON_RPSPEEDY/ML4L/ECMWF_files/raw/climate.v020/climate.v020/639l_2/sfc\n",
      "\n",
      "10 of 10 total messages in 1 files\n"
     ]
    }
   ],
   "source": [
    "! grib_ls /network/group/aopp/predict/TIP016_PAXTON_RPSPEEDY/ML4L/ECMWF_files/raw/climate.v020/climate.v020/639l_2/clake\n",
    "! grib_ls /network/group/aopp/predict/TIP016_PAXTON_RPSPEEDY/ML4L/ECMWF_files/raw/climate.v020/climate.v020/639l_2/lsmoro\n",
    "! grib_ls /network/group/aopp/predict/TIP016_PAXTON_RPSPEEDY/ML4L/ECMWF_files/raw/climate.v020/climate.v020/639l_2/sfc"
   ]
  },
  {
   "cell_type": "markdown",
   "id": "2e369665-ddf1-4840-99eb-b43f2bcde362",
   "metadata": {},
   "source": [
    "## 1B. Processing ERA5 data <a name=\"awdata_ERA5_process\"></a>\n"
   ]
  },
  {
   "cell_type": "markdown",
   "id": "b7eabc90-15f6-4cd9-a5ba-01af6433432a",
   "metadata": {},
   "source": [
    "Given all this data in disparate files, it will be useful to bring it all together in a usable format.\n",
    "\n",
    "There is some overlap between files, with some files holding the same features.\n",
    "\n",
    "There is also some degneracy in that we are needlessly holding values of features which are constant in time\n",
    "\n",
    "**Which data is constant in time?**"
   ]
  },
  {
   "cell_type": "code",
   "execution_count": 27,
   "id": "e78c24dd-d148-4215-889e-e16683716e83",
   "metadata": {},
   "outputs": [],
   "source": [
    "import xarray as xr\n",
    "import numpy as np\n",
    "import pandas as pd\n",
    "\n",
    "example_ERA_sfc_file = '/network/group/aopp/predict/TIP016_PAXTON_RPSPEEDY/ML4L/ECMWF_files/raw/ERA_sfc/sfc_unstructured_2018_01.grib'\n",
    "example_ERA_skin_file = '/network/group/aopp/predict/TIP016_PAXTON_RPSPEEDY/ML4L/ECMWF_files/raw/ERA_skin/sfc_skin_unstructured_2018_01.grib'\n",
    "\n",
    "def check_if_variables_are_constant(ds): \n",
    "    \"\"\"For all the variables in this ds, are they constant in time for each grid point?\"\"\"\n",
    "    \n",
    "    #Get all variables/features\n",
    "    all_variables = list(ds.keys())\n",
    "\n",
    "    names = []\n",
    "    variations = []\n",
    "    for v in all_variables:\n",
    "    \n",
    "        a = ds[v].values\n",
    "        #a == a[0,:] compares each value to the corresponding value in the first row\n",
    "        #A column shares a common value if all the values in that column are True\n",
    "        is_constant = all(np.all(a == a[0,:], axis = 0))\n",
    "        \n",
    "        \n",
    "        print (v,is_constant)\n",
    "        names.extend([v])\n",
    "        variations.extend([is_constant])\n",
    "        "
   ]
  },
  {
   "cell_type": "code",
   "execution_count": 28,
   "id": "a948574f-a951-4308-9e6d-29c7a47e13e5",
   "metadata": {},
   "outputs": [
    {
     "name": "stdout",
     "output_type": "stream",
     "text": [
      "sp False\n",
      "msl False\n",
      "u10 False\n",
      "v10 False\n",
      "t2m False\n",
      "aluvp False\n",
      "aluvd False\n",
      "alnip False\n",
      "alnid False\n",
      "cl True\n",
      "cvl True\n",
      "cvh True\n",
      "slt True\n",
      "sdfor True\n",
      "z True\n",
      "sd False\n",
      "sdor True\n",
      "isor True\n",
      "anor True\n",
      "slor True\n",
      "d2m False\n",
      "lsm True\n",
      "fal False\n"
     ]
    }
   ],
   "source": [
    "ds_sfc = xr.open_dataset(example_ERA_sfc_file,engine='cfgrib',backend_kwargs={'indexpath': ''} )\n",
    "check_if_variables_are_constant(ds_sfc)\n",
    "\n",
    "#Surface skin values. Filter out istl1,2 else errors.\n",
    "ds_skin = xr.open_dataset(example_ERA_skin_file,engine='cfgrib',filter_by_keys={'typeOfLevel': 'surface'}, backend_kwargs={'indexpath': ''} ) \n",
    "check_if_variables_are_constant(ds_skin)"
   ]
  },
  {
   "cell_type": "code",
   "execution_count": 34,
   "id": "c307565d-fd0d-4033-85b2-5359280db2bd",
   "metadata": {},
   "outputs": [
    {
     "name": "stdout",
     "output_type": "stream",
     "text": [
      "istl1 False\n",
      "istl2 False\n"
     ]
    }
   ],
   "source": [
    "#Now deal with istl1,2 individually\n",
    "ds_istl1 = xr.open_dataset(example_ERA_skin_file,engine='cfgrib',filter_by_keys={'shortName': 'istl1'}, backend_kwargs={'indexpath': ''} ) \n",
    "check_if_variables_are_constant(ds_istl1)\n",
    "\n",
    "ds_istl2 = xr.open_dataset(example_ERA_skin_file,engine='cfgrib',filter_by_keys={'shortName': 'istl2'}, backend_kwargs={'indexpath': ''} ) \n",
    "check_if_variables_are_constant(ds_istl2)\n"
   ]
  },
  {
   "cell_type": "markdown",
   "id": "312dcf40-bccf-4c80-b632-0012e18f7f52",
   "metadata": {},
   "source": [
    "We have just demonstrated a month of data here, but it is straightforward to extend to multiple months and the conclusions are unchanged\n",
    "\n",
    "---\n",
    "\n",
    "\n",
    "With the features which are constant in time identified, we need to take the following steps:\n",
    "\n",
    "For each month: \n",
    "* Extract the time variable features from ERA skin: `aluvp,aluvd,alnip,alnid,istl1,istl2,sd,2d,fal`\n",
    "* Merge the time variable ERA skin, ERA surface and ERA skt into a single file\n",
    "\n",
    "This is done in `scripts/process_time_variable_data.py`.\n",
    "    \n",
    "For one month:\n",
    "* Extract the constant time features from ERA skin, that are not covered in V15, V20.: `slt,sdfor`\n",
    "* Bring together with the V15 and V20 data\n",
    "\n",
    "This is done in `scripts/process_time_constant_data.py`.\n",
    "\n",
    "The final outputs of ERA data are then\n",
    "\n",
    "* `ERA_time_variable` * nmonths. GRIB format. `processed_data/ERA_timevariable`\n",
    "* `ERA_constant_V15` * 1. NetCDF format. `processed_data/ERA_timeconsant`\n",
    "* `ERA_constant_V20` * 1. NetCDF format. `processed_data/ERA_timeconsant`\n",
    "\n",
    "---\n"
   ]
  },
  {
   "cell_type": "code",
   "execution_count": null,
   "id": "d843b959-83fd-49a0-b32b-4a86b044e64f",
   "metadata": {},
   "outputs": [],
   "source": [
    "\n",
    "## 1B. MODIS data <a name=\"rawdata_MODIS\"></a>\n",
    "\n",
    "Some introduction text, formatted in heading 2 style"
   ]
  }
 ],
 "metadata": {
  "kernelspec": {
   "display_name": "Python 3 (ipykernel)",
   "language": "python",
   "name": "python3"
  },
  "language_info": {
   "codemirror_mode": {
    "name": "ipython",
    "version": 3
   },
   "file_extension": ".py",
   "mimetype": "text/x-python",
   "name": "python",
   "nbconvert_exporter": "python",
   "pygments_lexer": "ipython3",
   "version": "3.7.12"
  }
 },
 "nbformat": 4,
 "nbformat_minor": 5
}
