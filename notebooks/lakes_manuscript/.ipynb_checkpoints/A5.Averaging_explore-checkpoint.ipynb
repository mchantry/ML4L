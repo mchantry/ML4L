{
 "cells": [
  {
   "cell_type": "markdown",
   "id": "7915d87e-b4f9-4af6-9585-58817da00cf3",
   "metadata": {},
   "source": [
    "# Exploration of averaging method"
   ]
  },
  {
   "cell_type": "code",
   "execution_count": 1,
   "id": "1af70718-1d16-4ec9-8c70-c81eb928869d",
   "metadata": {},
   "outputs": [],
   "source": [
    "import pandas as pd\n",
    "df = pd.read_pickle('tmp_data/clean_yearly_data.pkl')"
   ]
  },
  {
   "cell_type": "code",
   "execution_count": null,
   "id": "dab4d028-39b2-42db-8061-a55a5541c050",
   "metadata": {},
   "outputs": [],
   "source": []
  }
 ],
 "metadata": {
  "kernelspec": {
   "display_name": "Python 3 (ipykernel)",
   "language": "python",
   "name": "python3"
  },
  "language_info": {
   "codemirror_mode": {
    "name": "ipython",
    "version": 3
   },
   "file_extension": ".py",
   "mimetype": "text/x-python",
   "name": "python",
   "nbconvert_exporter": "python",
   "pygments_lexer": "ipython3",
   "version": "3.7.12"
  }
 },
 "nbformat": 4,
 "nbformat_minor": 5
}
