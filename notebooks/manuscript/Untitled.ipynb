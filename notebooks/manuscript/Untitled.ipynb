{
 "cells": [
  {
   "cell_type": "markdown",
   "id": "041612ed-5c5e-4bab-b5b4-2ba49eb97fe1",
   "metadata": {},
   "source": [
    "# V20X"
   ]
  },
  {
   "cell_type": "code",
   "execution_count": 3,
   "id": "2a2632d3-a281-485f-b6c2-fc9caea33f37",
   "metadata": {},
   "outputs": [],
   "source": [
    "path_to_model = '/network/group/aopp/predict/TIP016_PAXTON_RPSPEEDY/ML4L/ECMWF_files/raw/processed_data/trained_models/V20_2016_augmented/'\n"
   ]
  },
  {
   "cell_type": "code",
   "execution_count": 4,
   "id": "788589ed-ae92-4742-895b-03a4e576e5e3",
   "metadata": {},
   "outputs": [
    {
     "data": {
      "text/plain": [
       "{'training_data': '/network/group/aopp/predict/TIP016_PAXTON_RPSPEEDY/ML4L/ECMWF_files/raw/processed_data/joined_data/2016_ML.parquet',\n",
       " 'validation_data': '/network/group/aopp/predict/TIP016_PAXTON_RPSPEEDY/ML4L/ECMWF_files/raw/processed_data/joined_data/2017_ML.parquet',\n",
       " 'testing_data': '/network/group/aopp/predict/TIP016_PAXTON_RPSPEEDY/ML4L/ECMWF_files/raw/processed_data/joined_data/2019_ML.parquet',\n",
       " 'training_features': ['sp',\n",
       "  'msl',\n",
       "  'u10',\n",
       "  'v10',\n",
       "  't2m',\n",
       "  'aluvp',\n",
       "  'aluvd',\n",
       "  'alnip',\n",
       "  'alnid',\n",
       "  'istl1',\n",
       "  'istl2',\n",
       "  'sd',\n",
       "  'd2m',\n",
       "  'fal',\n",
       "  'skt',\n",
       "  'slt_v15',\n",
       "  'sdfor_v15',\n",
       "  'sdor_v15',\n",
       "  'cvl_v15',\n",
       "  'lsm_v15',\n",
       "  'isor_v15',\n",
       "  'tvl_v15',\n",
       "  'tvh_v15',\n",
       "  'cvh_v15',\n",
       "  'si10_v15',\n",
       "  'anor_v15',\n",
       "  'cl_v15',\n",
       "  'dl_v15',\n",
       "  'z_v15',\n",
       "  'slor_v15',\n",
       "  'sdor_v20',\n",
       "  'cvl_v20',\n",
       "  'lsm_v20',\n",
       "  'isor_v20',\n",
       "  'cvh_v20',\n",
       "  'si10_v20',\n",
       "  'anor_v20',\n",
       "  'cl_v20',\n",
       "  'dl_v20',\n",
       "  'z_v20',\n",
       "  'slor_v20'],\n",
       " 'batch_size': 1024,\n",
       " 'epochs': 200,\n",
       " 'number_of_hidden_layers': 3,\n",
       " 'nodes_per_layer': [None, None, None],\n",
       " 'target_variable': 'MODIS_LST',\n",
       " 'learning_rate': 0.0003,\n",
       " 'loss': 'mse',\n",
       " 'metrics': ['accuracy'],\n",
       " 'path_to_trained_models': '/network/group/aopp/predict/TIP016_PAXTON_RPSPEEDY/ML4L/ECMWF_files/raw/processed_data/trained_models/',\n",
       " 'model_name': 'V20_2016_augmented',\n",
       " 'overwrite': True,\n",
       " 'use_pretrained_model': False,\n",
       " 'epoch_save_freq': 10,\n",
       " 'early_stopping_patience': 20,\n",
       " 'pretrained_model': None}"
      ]
     },
     "metadata": {},
     "output_type": "display_data"
    }
   ],
   "source": [
    "import json\n",
    "with open(path_to_model+'configuration.json') as f:\n",
    "    config=json.load(f)\n",
    "    display(config['train'])"
   ]
  },
  {
   "cell_type": "code",
   "execution_count": null,
   "id": "64542d8b-971d-42f7-b7a6-fe44403ef256",
   "metadata": {},
   "outputs": [],
   "source": []
  }
 ],
 "metadata": {
  "kernelspec": {
   "display_name": "Python 3 (ipykernel)",
   "language": "python",
   "name": "python3"
  },
  "language_info": {
   "codemirror_mode": {
    "name": "ipython",
    "version": 3
   },
   "file_extension": ".py",
   "mimetype": "text/x-python",
   "name": "python",
   "nbconvert_exporter": "python",
   "pygments_lexer": "ipython3",
   "version": "3.7.12"
  }
 },
 "nbformat": 4,
 "nbformat_minor": 5
}
