{
 "cells": [
  {
   "cell_type": "markdown",
   "id": "d3228247-5b3b-400a-9dd1-774191a65374",
   "metadata": {},
   "source": [
    "### Noise calculations for paper revisions\n",
    "\n",
    "\n",
    "This notebook explores the model training noise as requested during the first round of paper review.\n",
    "\n",
    "We use the conda environment `analysis`\n"
   ]
  },
  {
   "cell_type": "markdown",
   "id": "95f02761-d179-4028-a8b8-b8d244cccff2",
   "metadata": {},
   "source": [
    "#### Define paths to model files"
   ]
  },
  {
   "cell_type": "code",
   "execution_count": 173,
   "id": "9e557f92-1549-4072-b280-02483857026d",
   "metadata": {},
   "outputs": [],
   "source": [
    "root = '/network/group/aopp/predict/TIP016_PAXTON_RPSPEEDY/ML4L/ECMWF_files/raw/processed_data/trained_models/'\n",
    "model_1 = f'{root}V15_noise_expt_1/'\n",
    "model_2 = f'{root}V15_noise_expt_2/'\n",
    "model_3 = f'{root}V15_noise_expt_3/'\n",
    "model_4 = f'{root}V15_noise_expt_4/'"
   ]
  },
  {
   "cell_type": "markdown",
   "id": "ea2cfad8-1557-4dfe-8ad6-827ce241442f",
   "metadata": {},
   "source": [
    "#### Define some useful functions"
   ]
  },
  {
   "cell_type": "code",
   "execution_count": 61,
   "id": "c53878c2-88a6-4bf3-8c0f-d5708faa6597",
   "metadata": {
    "jupyter": {
     "source_hidden": true
    },
    "tags": []
   },
   "outputs": [],
   "source": [
    "import pandas as pd\n",
    "def load_predictions(path):\n",
    "\n",
    "    df = pd.read_parquet(path+'predictions.parquet')\n",
    "    \n",
    "    \n",
    "    #Calculate some extra columns\n",
    "    df['model_predicion_bias'] = df.MODIS_LST - df.predictions\n",
    "    df['model_predicion_error'] = abs(df.MODIS_LST - df.predictions)\n",
    "        \n",
    "    df['ERA_predicion_bias'] = df.MODIS_LST - df.skt_unnormalised\n",
    "    df['ERA_predicion_error'] = abs(df.MODIS_LST - df.skt_unnormalised)\n",
    "\n",
    "\n",
    "    print ('----------------------------------MODEL-------------------------------------------------')\n",
    "    print(\"Mean/Median/Std prediction bias:\", df['model_predicion_bias'].mean(), df['model_predicion_bias'].median(),df['model_predicion_bias'].std())\n",
    "    print(\"Mean/Median/Std prediction error:\", df['model_predicion_error'].mean(), df['model_predicion_error'].median(),df['model_predicion_error'].std())\n",
    "    # print ('------------------------------------ERA---------------------------------------------------')\n",
    "    # print(\"Mean/Median/Std prediction bias:\", df['ERA_predicion_bias'].mean(), df['ERA_predicion_bias'].median(),df['ERA_predicion_bias'].std())\n",
    "    # print(\"Mean/Median/Std prediction error:\", df['ERA_predicion_error'].mean(), df['ERA_predicion_error'].median(),df['ERA_predicion_error'].std())\n",
    "    # print ('-------------------------------------------------------------------------------------------')\n",
    "\n",
    "    \n",
    "    \n",
    "    #Average predictions and errors over the year\n",
    "    df_grouped = df.groupby(['latitude_ERA', 'longitude_ERA'],as_index=False).mean() \n",
    "    \n",
    "    \n",
    "    \n",
    "    \n",
    "    \n",
    "    return df,df_grouped\n",
    "\n",
    "import matplotlib.pyplot as plt\n",
    "from matplotlib.gridspec import GridSpec\n",
    "import cartopy.crs as ccrs\n",
    "import matplotlib.colors as mc\n",
    "import matplotlib.colorbar as cb \n",
    "\n",
    "\n",
    "\n",
    "\n",
    "        \n",
    "        \n",
    "        \n",
    "def global_plot(df,z,projection,vmin,vmax,cmap,absolute_values,logscale,title,markersize,savefig):\n",
    "    \n",
    "    \n",
    "        \n",
    "       # ccrs.Robinson()\n",
    "        \n",
    "    #Setup plotting env\n",
    "    fig = plt.figure(figsize=[30,20])\n",
    "    ax = plt.subplot(projection=projection)\n",
    "    cax = fig.add_axes([0.32, 0.11, 0.4, 0.0125])\n",
    "\n",
    "    #Get data\n",
    "    try:\n",
    "        x = df.longitude\n",
    "        y = df.latitude\n",
    "    except: #different sources call lat/lon different things\n",
    "        x = df.longitude_ERA\n",
    "        y = df.latitude_ERA\n",
    "\n",
    "    z1 = df[z]\n",
    "    if absolute_values:\n",
    "        z1 = abs(z1)\n",
    "        if vmin < 0:\n",
    "            vmin = 0 # dont need negative vmins if plotting absolute values\n",
    "    \n",
    "    \n",
    "    #Normalize, colorbars\n",
    "    if vmin is None:\n",
    "        vmin = min(z1)\n",
    "    if vmax is None:\n",
    "        vmax = max(z1)\n",
    "        \n",
    "\n",
    "     #Cmaps, normalisations\n",
    "    if logscale:\n",
    "        norm = mc.LogNorm(vmin=vmin, vmax=vmax)\n",
    "        z1 = abs(z1)\n",
    "    else:\n",
    "        norm = mc.Normalize(vmin=vmin, vmax=vmax)\n",
    "\n",
    "    \n",
    "    cb1 = cb.ColorbarBase(cax, cmap=cmap,\n",
    "                                norm=norm,\n",
    "                                orientation='horizontal')\n",
    "    \n",
    "    \n",
    "    \n",
    "    \n",
    "    \n",
    "    \n",
    "    #Scatter points\n",
    "    sc = ax.scatter(x,y,transform=ccrs.PlateCarree(), #Always PlateCarree\n",
    "                    s=markersize,\n",
    "                    c=cmap(norm(z1)),\n",
    "                    linewidths=1, \n",
    "                    alpha=.7)\n",
    "\n",
    "\n",
    "    #Latitude cutoffs\n",
    "    ax.plot([-180,180],[70,70],transform=ccrs.PlateCarree(),c='0.5', linestyle='--')\n",
    "    ax.plot([-180,180],[-70,-70],transform=ccrs.PlateCarree(),c='0.5', linestyle='--')\n",
    "\n",
    "\n",
    "    #Formatting\n",
    "    cax.tick_params(labelsize=30)\n",
    "    cax.set_xlabel(r'$\\delta$K',fontsize=34)\n",
    "\n",
    "    ax.set_title(title)    \n",
    "    ax.coastlines()\n",
    "    ax.set_aspect('auto') #Force projection aspect ratio\n",
    "    #ax.set_xlim(-180,180)\n",
    "\n",
    "    if savefig is not None:\n",
    "        plt.savefig(savefig,bbox_inches='tight', pad_inches=0, dpi=300)   \n",
    "        \n",
    "        \n",
    "        \n",
    "        \n",
    "            "
   ]
  },
  {
   "cell_type": "code",
   "execution_count": 174,
   "id": "62597d1d-3d32-4902-8df9-7f7ebe9de0f3",
   "metadata": {},
   "outputs": [
    {
     "name": "stdout",
     "output_type": "stream",
     "text": [
      "----------------------------------MODEL-------------------------------------------------\n",
      "Mean/Median/Std prediction bias: 0.08259364 0.226959228515625 3.8190529346466064\n",
      "Mean/Median/Std prediction error: 2.9854784 2.280975341796875 2.499044418334961\n"
     ]
    },
    {
     "name": "stderr",
     "output_type": "stream",
     "text": [
      "<ipython-input-61-019f89ba43d9>:26: FutureWarning: The default value of numeric_only in DataFrameGroupBy.mean is deprecated. In a future version, numeric_only will default to False. Either specify numeric_only or select only columns which should be valid for the function.\n",
      "  df_grouped = df.groupby(['latitude_ERA', 'longitude_ERA'],as_index=False).mean()\n"
     ]
    },
    {
     "name": "stdout",
     "output_type": "stream",
     "text": [
      "----------------------------------MODEL-------------------------------------------------\n",
      "Mean/Median/Std prediction bias: 0.17329945 0.29364013671875 3.8254127502441406\n",
      "Mean/Median/Std prediction error: 2.9893332 2.27545166015625 2.509122133255005\n"
     ]
    },
    {
     "name": "stderr",
     "output_type": "stream",
     "text": [
      "<ipython-input-61-019f89ba43d9>:26: FutureWarning: The default value of numeric_only in DataFrameGroupBy.mean is deprecated. In a future version, numeric_only will default to False. Either specify numeric_only or select only columns which should be valid for the function.\n",
      "  df_grouped = df.groupby(['latitude_ERA', 'longitude_ERA'],as_index=False).mean()\n"
     ]
    },
    {
     "name": "stdout",
     "output_type": "stream",
     "text": [
      "----------------------------------MODEL-------------------------------------------------\n",
      "Mean/Median/Std prediction bias: 0.0777295 0.20306396484375 3.8673462867736816\n",
      "Mean/Median/Std prediction error: 3.0292234 2.315216064453125 2.526977300643921\n"
     ]
    },
    {
     "name": "stderr",
     "output_type": "stream",
     "text": [
      "<ipython-input-61-019f89ba43d9>:26: FutureWarning: The default value of numeric_only in DataFrameGroupBy.mean is deprecated. In a future version, numeric_only will default to False. Either specify numeric_only or select only columns which should be valid for the function.\n",
      "  df_grouped = df.groupby(['latitude_ERA', 'longitude_ERA'],as_index=False).mean()\n"
     ]
    },
    {
     "name": "stdout",
     "output_type": "stream",
     "text": [
      "----------------------------------MODEL-------------------------------------------------\n",
      "Mean/Median/Std prediction bias: 0.06500694 0.195526123046875 3.8166935443878174\n",
      "Mean/Median/Std prediction error: 2.9783933 2.266021728515625 2.5020196437835693\n"
     ]
    },
    {
     "name": "stderr",
     "output_type": "stream",
     "text": [
      "<ipython-input-61-019f89ba43d9>:26: FutureWarning: The default value of numeric_only in DataFrameGroupBy.mean is deprecated. In a future version, numeric_only will default to False. Either specify numeric_only or select only columns which should be valid for the function.\n",
      "  df_grouped = df.groupby(['latitude_ERA', 'longitude_ERA'],as_index=False).mean()\n"
     ]
    }
   ],
   "source": [
    "models_to_compare = [model_1,model_2, model_3,model_4]\n",
    "\n",
    "\n",
    "annually_averaged_dfs = []\n",
    "for m in models_to_compare:\n",
    "    predictions,predictions_averaged = load_predictions(m)\n",
    "    annually_averaged_dfs.extend([predictions_averaged])\n",
    "\n"
   ]
  },
  {
   "cell_type": "markdown",
   "id": "f66b8096-b4c2-4d7b-937b-1d2b29541ac7",
   "metadata": {},
   "source": [
    "#### Load the change in fields file - we will use this to categorise gridpoints"
   ]
  },
  {
   "cell_type": "code",
   "execution_count": 36,
   "id": "1f84d427-2f4a-4687-8e04-0509f997933a",
   "metadata": {},
   "outputs": [],
   "source": [
    "change_in_fields = pd.read_pickle('tmp_data/change_in_fields.pkl')\n",
    "change_in_fields['latitude_join'] = round(change_in_fields.latitude_ERA,3)\n",
    "change_in_fields['longitude_join'] = round(change_in_fields.longitude_ERA,3) #just used for joining due to loss of precision from Margs file"
   ]
  },
  {
   "cell_type": "markdown",
   "id": "633cd6fa-d172-4216-87d4-11188d62a3a9",
   "metadata": {},
   "source": [
    "#### Create a new df and concat it with the change in fields df"
   ]
  },
  {
   "cell_type": "code",
   "execution_count": 166,
   "id": "df4efed6-ff20-4645-8c7d-3e348fa846b4",
   "metadata": {},
   "outputs": [],
   "source": [
    "#Create a new df that will just hold the differences   \n",
    "\n",
    "df =annually_averaged_dfs[0] #pick a df to get latitudes \n",
    "data = { 'latitude_ERA':     df.latitude_ERA, \n",
    "         'longitude_ERA':    df.longitude_ERA,\n",
    "         'MODIS_LST':        df.MODIS_LST,\n",
    "          'latitude_join':    round(df.latitude_ERA,3), \n",
    "          'longitude_join':    round(df.longitude_ERA,3)}\n",
    "\n",
    "\n",
    "i = 1\n",
    "selected_cols = [] #we will use this later when computing variances\n",
    "for df in annually_averaged_dfs:\n",
    "    data[f'prediction_error_{i}'] = df['model_predicion_error']\n",
    "    data[f'prediction_{i}'] = df['predictions']\n",
    "\n",
    "    selected_cols.extend([f'prediction_error_{i}'])\n",
    "    i = i+1\n",
    "\n",
    "df_new = pd.DataFrame(data)   "
   ]
  },
  {
   "cell_type": "code",
   "execution_count": 167,
   "id": "aa2ae5fe-939c-4b6e-b7a4-d4b124155b6d",
   "metadata": {},
   "outputs": [],
   "source": [
    "#Join and save\n",
    "df_cat = pd.merge(df_new,change_in_fields,how='inner',on=['latitude_join', 'longitude_join'],suffixes=('', '_y')) #inner join.\n",
    "df_cat = df_cat.drop(['latitude_join', 'longitude_join','latitude_ERA_y', 'longitude_ERA_y'], axis=1) #Get rid of junk columns"
   ]
  },
  {
   "cell_type": "markdown",
   "id": "28bdf081-fd7b-45af-b71b-b7a1b7780e0f",
   "metadata": {},
   "source": [
    "#### LAKES"
   ]
  },
  {
   "cell_type": "code",
   "execution_count": 168,
   "id": "893ad553-e120-43b7-9cd4-156bbe393fb6",
   "metadata": {},
   "outputs": [],
   "source": [
    "pd.options.mode.chained_assignment = None #Ignore SettingWithCopyWarning - we are safe here\n",
    "\n",
    "\n",
    "def surface_noise_numbers(df):\n",
    "    df['variance']=df[selected_cols].var(axis=1) #variance over the prediciton errors i.e. noise \n",
    "    \n",
    "    print(\"Numer of grid points:\", len(df))\n",
    "    print(\"Median:\", df['variance'].median())\n",
    "    print(\"Mean:\", df['variance'].mean())\n",
    "    \n",
    "    df['variance'].hist(bins=100,figsize=(12,8))\n",
    "\n",
    "\n"
   ]
  },
  {
   "cell_type": "code",
   "execution_count": 169,
   "id": "88d0a3a0-c5b1-4806-a8f4-6af9291a3c93",
   "metadata": {},
   "outputs": [
    {
     "name": "stdout",
     "output_type": "stream",
     "text": [
      "Numer of grid points: 1631\n",
      "Median: 0.006875849328935146\n",
      "Mean: 0.22593114\n"
     ]
    },
    {
     "data": {
      "image/png": "[encoded data removed]",
      "text/plain": [
       "<Figure size 864x576 with 1 Axes>"
      ]
     },
     "metadata": {
      "needs_background": "light"
     },
     "output_type": "display_data"
    }
   ],
   "source": [
    "df_lake = df_cat.query('clFr_change_is_significant & dl_change_is_significant & not oceanFr_change_is_significant & not si10Fr_change_is_significant')\n",
    "surface_noise_numbers(df_lake)"
   ]
  },
  {
   "cell_type": "markdown",
   "id": "396b5e75-3d51-4d94-85e1-ddef6963829c",
   "metadata": {},
   "source": [
    "#### Lake ground"
   ]
  },
  {
   "cell_type": "code",
   "execution_count": 89,
   "id": "7aeaa642-bc95-42e5-8e4b-931cb23dcd39",
   "metadata": {},
   "outputs": [],
   "source": [
    "df_lake_ground = df_cat.query('clFr_change_is_significant & dl_change_is_significant & not oceanFr_change_is_significant & not cvhFr_change_is_significant & not cvlFr_change_is_significant')\n"
   ]
  },
  {
   "cell_type": "code",
   "execution_count": 91,
   "id": "520f7d3c-809d-4813-9480-86fa15fad5a2",
   "metadata": {},
   "outputs": [
    {
     "name": "stdout",
     "output_type": "stream",
     "text": [
      "Median: 0.022453751415014267\n",
      "Mean: 0.5525061\n"
     ]
    },
    {
     "data": {
      "image/png": "[encoded data removed]",
      "text/plain": [
       "<Figure size 864x576 with 1 Axes>"
      ]
     },
     "metadata": {
      "needs_background": "light"
     },
     "output_type": "display_data"
    }
   ],
   "source": [
    "surface_noise_numbers(df_lake_ground)"
   ]
  },
  {
   "cell_type": "markdown",
   "id": "e187970a-2307-4713-81e4-3a9cbd7ce248",
   "metadata": {},
   "source": [
    "#### Vegetation"
   ]
  },
  {
   "cell_type": "code",
   "execution_count": 92,
   "id": "102b3e02-eb0f-4a3f-b591-de34ea812d26",
   "metadata": {},
   "outputs": [],
   "source": [
    "df_vegetation = df_cat.query('cvhFr_change_is_significant & not clFr_change_is_significant')\n"
   ]
  },
  {
   "cell_type": "code",
   "execution_count": 93,
   "id": "e7213129-36cb-4df4-a8bb-e75feed32cfa",
   "metadata": {},
   "outputs": [
    {
     "name": "stdout",
     "output_type": "stream",
     "text": [
      "Median: 0.05315713584423065\n",
      "Mean: 0.1788691\n"
     ]
    },
    {
     "data": {
      "image/png": "[encoded data removed]",
      "text/plain": [
       "<Figure size 864x576 with 1 Axes>"
      ]
     },
     "metadata": {
      "needs_background": "light"
     },
     "output_type": "display_data"
    }
   ],
   "source": [
    "surface_noise_numbers(df_vegetation)"
   ]
  },
  {
   "cell_type": "markdown",
   "id": "421af903-45ce-4c6a-9c3f-6c0f6a2ebda5",
   "metadata": {},
   "source": [
    "#### Glacier"
   ]
  },
  {
   "cell_type": "code",
   "execution_count": 97,
   "id": "26d216e7-269c-4be3-9658-b26f00c8d10d",
   "metadata": {},
   "outputs": [
    {
     "name": "stdout",
     "output_type": "stream",
     "text": [
      "Numer of grid points: 1057\n",
      "Median: 0.055565495043992996\n",
      "Mean: 0.15235907\n"
     ]
    },
    {
     "data": {
      "image/png": "[encoded data removed]",
      "text/plain": [
       "<Figure size 864x576 with 1 Axes>"
      ]
     },
     "metadata": {
      "needs_background": "light"
     },
     "output_type": "display_data"
    }
   ],
   "source": [
    "df_glacier = df_cat.query('si10Fr_change_is_significant')\n",
    "surface_noise_numbers(df_glacier)"
   ]
  },
  {
   "cell_type": "markdown",
   "id": "d5e70379-9698-4f27-a14a-891fd2862d7f",
   "metadata": {},
   "source": [
    "#### Deep dive on individual bad points"
   ]
  },
  {
   "cell_type": "code",
   "execution_count": 170,
   "id": "a380f081-c1c7-4bc0-b6b8-3959bb2c9d57",
   "metadata": {},
   "outputs": [],
   "source": [
    "lake_natron = df_lake.query('latitude_ERA == -2.3887580539270044 & longitude_ERA == 36.0000')\n",
    "lake_natron_northern_edge =df_lake.query('latitude_ERA == -2.10772769472398 & longitude_ERA == 36.0000') \n",
    "lake_blanche =df_lake.query('latitude_ERA ==  -29.367671674745356 & longitude_ERA == 139.6875') \n",
    "salt_lake_city =df_lake.query('latitude_ERA ==  41.17094491970063 & longitude_ERA ==  -113.39999999999998') \n",
    "farah_province =df_lake.query('latitude_ERA ==  31.615914311651938 & longitude_ERA == 61.120000000000005') \n",
    "gujarat_province =df_lake.query('latitude_ERA ==  24.028095261448925 & longitude_ERA ==  69.0') \n",
    "toshka_lakes =df_lake.query('latitude_ERA ==  23.18500423251539 & longitude_ERA ==  30.900000000000006') \n",
    "all_northern_canada_points = df_lake.query('50.0 < latitude_ERA & -130 < longitude_ERA < -80')\n",
    "\n",
    "caspain_1 = df_lake.query('latitude_ERA ==  46.22948997297545 & longitude_ERA ==   49.125')\n",
    "caspain_2 = df_lake.query('latitude_ERA ==  46.22948997297545 & longitude_ERA ==    49.5')\n",
    "caspain_3 = df_lake.query('latitude_ERA ==  46.51052023808231 & longitude_ERA ==    49.5')\n",
    "caspain_4 = df_lake.query('latitude_ERA ==  47.072580762649004 & longitude_ERA ==    51.599999999999994')\n",
    "\n",
    "caspian_edge = pd.concat([caspain_1,caspain_2,caspain_3,caspain_4])\n",
    "\n",
    "bering_glacier = df_glacier.query('latitude_ERA == 60.280999861571715   & longitude_ERA ==    -143.4666666666667')\n",
    "juncal_glacier = df_glacier.query('latitude_ERA == -33.021065936911214   & longitude_ERA ==    -70.07999999999998')\n"
   ]
  },
  {
   "cell_type": "code",
   "execution_count": 171,
   "id": "c0cdf869-e4ae-4085-90af-3ea641022475",
   "metadata": {},
   "outputs": [],
   "source": [
    "selected_dfs = dict({'lake_natron':lake_natron,\n",
    "                     'lake_natron_northern_edge':lake_natron_northern_edge,\n",
    "                     'lake_blanche':lake_blanche,\n",
    "                     'salt_lake_city':salt_lake_city,\n",
    "                     'farah_province':farah_province,\n",
    "                     'gujarat_province':gujarat_province,\n",
    "                     'toshka_lakes':toshka_lakes,\n",
    "                     'all_northern_canada_points':all_northern_canada_points,\n",
    "                     'caspian_edge':caspian_edge,\n",
    "                     'bering_glacier':bering_glacier,\n",
    "                     'juncal_glacier':juncal_glacier})"
   ]
  },
  {
   "cell_type": "code",
   "execution_count": 163,
   "id": "aa5bc1c8-aa8d-47d3-a83a-04bd656b278f",
   "metadata": {},
   "outputs": [
    {
     "name": "stdout",
     "output_type": "stream",
     "text": [
      "lake_natron\n",
      "Numer of grid points: 1\n",
      "Median: 0.009976662695407867\n",
      "Mean: 0.009976663\n",
      "************************\n",
      "lake_natron_northern_edge\n",
      "Numer of grid points: 1\n",
      "Median: 0.01995065063238144\n",
      "Mean: 0.01995065\n",
      "************************\n",
      "lake_blanche\n",
      "Numer of grid points: 1\n",
      "Median: 0.054922495037317276\n",
      "Mean: 0.054922495\n",
      "************************\n",
      "salt_lake_city\n",
      "Numer of grid points: 1\n",
      "Median: 0.12763968110084534\n",
      "Mean: 0.12763968\n",
      "************************\n",
      "farah_province\n",
      "Numer of grid points: 1\n",
      "Median: 0.00037971368874423206\n",
      "Mean: 0.0003797137\n",
      "************************\n",
      "gujarat_province\n",
      "Numer of grid points: 1\n",
      "Median: 11.763381958007812\n",
      "Mean: 11.763382\n",
      "************************\n",
      "toshka_lakes\n",
      "Numer of grid points: 1\n",
      "Median: 0.7704178690910339\n",
      "Mean: 0.77041787\n",
      "************************\n",
      "all_northern_canada_points\n",
      "Numer of grid points: 756\n",
      "Median: 0.003363757859915495\n",
      "Mean: 0.0066983574\n",
      "************************\n",
      "caspian_edge\n",
      "Numer of grid points: 4\n",
      "Median: 0.03296256065368652\n",
      "Mean: 0.03826432\n",
      "************************\n",
      "bering_glacier\n",
      "Numer of grid points: 1\n",
      "Median: 0.39252787828445435\n",
      "Mean: 0.39252788\n",
      "************************\n",
      "juncal_glacier\n",
      "Numer of grid points: 1\n",
      "Median: 0.2448817938566208\n",
      "Mean: 0.2448818\n",
      "************************\n"
     ]
    },
    {
     "data": {
      "image/png": "[encoded data removed]",
      "text/plain": [
       "<Figure size 864x576 with 1 Axes>"
      ]
     },
     "metadata": {
      "needs_background": "light"
     },
     "output_type": "display_data"
    }
   ],
   "source": [
    "for key,value in selected_dfs.items():\n",
    "    print(key)\n",
    "    surface_noise_numbers(value)\n",
    "    print(\"************************\")"
   ]
  },
  {
   "cell_type": "code",
   "execution_count": 164,
   "id": "4472c1f1-a799-4e0c-b903-3164a3ac52c4",
   "metadata": {},
   "outputs": [
    {
     "data": {
      "text/html": [
       "<div>\n",
       "<style scoped>\n",
       "    .dataframe tbody tr th:only-of-type {\n",
       "        vertical-align: middle;\n",
       "    }\n",
       "\n",
       "    .dataframe tbody tr th {\n",
       "        vertical-align: top;\n",
       "    }\n",
       "\n",
       "    .dataframe thead th {\n",
       "        text-align: right;\n",
       "    }\n",
       "</style>\n",
       "<table border=\"1\" class=\"dataframe\">\n",
       "  <thead>\n",
       "    <tr style=\"text-align: right;\">\n",
       "      <th></th>\n",
       "      <th>latitude_ERA</th>\n",
       "      <th>longitude_ERA</th>\n",
       "      <th>prediction_error_1</th>\n",
       "      <th>prediction_error_2</th>\n",
       "      <th>prediction_error_3</th>\n",
       "      <th>V15_clFr</th>\n",
       "      <th>V15_cvhFr</th>\n",
       "      <th>V15_cvlFr</th>\n",
       "      <th>V15_dl</th>\n",
       "      <th>V15_oceanFr</th>\n",
       "      <th>...</th>\n",
       "      <th>changeAbs_V20V15_z</th>\n",
       "      <th>clFr_change_is_significant</th>\n",
       "      <th>cvhFr_change_is_significant</th>\n",
       "      <th>cvlFr_change_is_significant</th>\n",
       "      <th>oceanFr_change_is_significant</th>\n",
       "      <th>si10Fr_change_is_significant</th>\n",
       "      <th>dl_change_is_significant</th>\n",
       "      <th>z_change_is_significant</th>\n",
       "      <th>bitstring</th>\n",
       "      <th>variance</th>\n",
       "    </tr>\n",
       "  </thead>\n",
       "  <tbody>\n",
       "    <tr>\n",
       "      <th>134395</th>\n",
       "      <td>60.281</td>\n",
       "      <td>-143.466667</td>\n",
       "      <td>4.113899</td>\n",
       "      <td>3.638883</td>\n",
       "      <td>4.880559</td>\n",
       "      <td>0.070561</td>\n",
       "      <td>0.010551</td>\n",
       "      <td>0.104417</td>\n",
       "      <td>1.946289</td>\n",
       "      <td>0.0</td>\n",
       "      <td>...</td>\n",
       "      <td>47.130859</td>\n",
       "      <td>False</td>\n",
       "      <td>False</td>\n",
       "      <td>False</td>\n",
       "      <td>False</td>\n",
       "      <td>True</td>\n",
       "      <td>True</td>\n",
       "      <td>True</td>\n",
       "      <td>0001011</td>\n",
       "      <td>0.392528</td>\n",
       "    </tr>\n",
       "  </tbody>\n",
       "</table>\n",
       "<p>1 rows × 35 columns</p>\n",
       "</div>"
      ],
      "text/plain": [
       "        latitude_ERA  longitude_ERA  prediction_error_1  prediction_error_2  \\\n",
       "134395        60.281    -143.466667            4.113899            3.638883   \n",
       "\n",
       "        prediction_error_3  V15_clFr  V15_cvhFr  V15_cvlFr    V15_dl  \\\n",
       "134395            4.880559  0.070561   0.010551   0.104417  1.946289   \n",
       "\n",
       "        V15_oceanFr  ...  changeAbs_V20V15_z  clFr_change_is_significant  \\\n",
       "134395          0.0  ...           47.130859                       False   \n",
       "\n",
       "        cvhFr_change_is_significant  cvlFr_change_is_significant  \\\n",
       "134395                        False                        False   \n",
       "\n",
       "        oceanFr_change_is_significant  si10Fr_change_is_significant  \\\n",
       "134395                          False                          True   \n",
       "\n",
       "        dl_change_is_significant  z_change_is_significant  bitstring  variance  \n",
       "134395                      True                     True    0001011  0.392528  \n",
       "\n",
       "[1 rows x 35 columns]"
      ]
     },
     "execution_count": 164,
     "metadata": {},
     "output_type": "execute_result"
    }
   ],
   "source": [
    "bering_glacier"
   ]
  },
  {
   "cell_type": "code",
   "execution_count": 172,
   "id": "9bf35c2d-bcd4-456b-b689-27d36a642c9a",
   "metadata": {},
   "outputs": [
    {
     "data": {
      "text/html": [
       "<div>\n",
       "<style scoped>\n",
       "    .dataframe tbody tr th:only-of-type {\n",
       "        vertical-align: middle;\n",
       "    }\n",
       "\n",
       "    .dataframe tbody tr th {\n",
       "        vertical-align: top;\n",
       "    }\n",
       "\n",
       "    .dataframe thead th {\n",
       "        text-align: right;\n",
       "    }\n",
       "</style>\n",
       "<table border=\"1\" class=\"dataframe\">\n",
       "  <thead>\n",
       "    <tr style=\"text-align: right;\">\n",
       "      <th></th>\n",
       "      <th>latitude_ERA</th>\n",
       "      <th>longitude_ERA</th>\n",
       "      <th>MODIS_LST</th>\n",
       "      <th>prediction_error_1</th>\n",
       "      <th>prediction_1</th>\n",
       "      <th>prediction_error_2</th>\n",
       "      <th>prediction_2</th>\n",
       "      <th>prediction_error_3</th>\n",
       "      <th>prediction_3</th>\n",
       "      <th>V15_clFr</th>\n",
       "      <th>...</th>\n",
       "      <th>changeAbs_V20V15_z</th>\n",
       "      <th>clFr_change_is_significant</th>\n",
       "      <th>cvhFr_change_is_significant</th>\n",
       "      <th>cvlFr_change_is_significant</th>\n",
       "      <th>oceanFr_change_is_significant</th>\n",
       "      <th>si10Fr_change_is_significant</th>\n",
       "      <th>dl_change_is_significant</th>\n",
       "      <th>z_change_is_significant</th>\n",
       "      <th>bitstring</th>\n",
       "      <th>variance</th>\n",
       "    </tr>\n",
       "  </thead>\n",
       "  <tbody>\n",
       "    <tr>\n",
       "      <th>71526</th>\n",
       "      <td>24.028095</td>\n",
       "      <td>69.0</td>\n",
       "      <td>313.741486</td>\n",
       "      <td>5.290875</td>\n",
       "      <td>309.216736</td>\n",
       "      <td>5.206067</td>\n",
       "      <td>309.648285</td>\n",
       "      <td>11.188568</td>\n",
       "      <td>302.657593</td>\n",
       "      <td>0.59056</td>\n",
       "      <td>...</td>\n",
       "      <td>0.267944</td>\n",
       "      <td>True</td>\n",
       "      <td>False</td>\n",
       "      <td>False</td>\n",
       "      <td>False</td>\n",
       "      <td>False</td>\n",
       "      <td>True</td>\n",
       "      <td>True</td>\n",
       "      <td>1001001</td>\n",
       "      <td>11.763382</td>\n",
       "    </tr>\n",
       "  </tbody>\n",
       "</table>\n",
       "<p>1 rows × 39 columns</p>\n",
       "</div>"
      ],
      "text/plain": [
       "       latitude_ERA  longitude_ERA   MODIS_LST  prediction_error_1  \\\n",
       "71526     24.028095           69.0  313.741486            5.290875   \n",
       "\n",
       "       prediction_1  prediction_error_2  prediction_2  prediction_error_3  \\\n",
       "71526    309.216736            5.206067    309.648285           11.188568   \n",
       "\n",
       "       prediction_3  V15_clFr  ...  changeAbs_V20V15_z  \\\n",
       "71526    302.657593   0.59056  ...            0.267944   \n",
       "\n",
       "       clFr_change_is_significant  cvhFr_change_is_significant  \\\n",
       "71526                        True                        False   \n",
       "\n",
       "       cvlFr_change_is_significant  oceanFr_change_is_significant  \\\n",
       "71526                        False                          False   \n",
       "\n",
       "       si10Fr_change_is_significant  dl_change_is_significant  \\\n",
       "71526                         False                      True   \n",
       "\n",
       "       z_change_is_significant  bitstring   variance  \n",
       "71526                     True    1001001  11.763382  \n",
       "\n",
       "[1 rows x 39 columns]"
      ]
     },
     "execution_count": 172,
     "metadata": {},
     "output_type": "execute_result"
    }
   ],
   "source": [
    "gujarat_province"
   ]
  },
  {
   "cell_type": "code",
   "execution_count": 146,
   "id": "72ebb1fb-a918-43ea-a3fb-393b0d735a14",
   "metadata": {},
   "outputs": [
    {
     "data": {
      "text/plain": [
       "-70.07999999999998"
      ]
     },
     "execution_count": 146,
     "metadata": {},
     "output_type": "execute_result"
    }
   ],
   "source": [
    "juncal_glacier['longitude_ERA'].to_numpy()[0]"
   ]
  },
  {
   "cell_type": "code",
   "execution_count": null,
   "id": "a3618d78-8709-422a-974a-f0b9af47b158",
   "metadata": {},
   "outputs": [],
   "source": []
  }
 ],
 "metadata": {
  "kernelspec": {
   "display_name": "Python 3",
   "language": "python",
   "name": "python3"
  },
  "language_info": {
   "codemirror_mode": {
    "name": "ipython",
    "version": 3
   },
   "file_extension": ".py",
   "mimetype": "text/x-python",
   "name": "python",
   "nbconvert_exporter": "python",
   "pygments_lexer": "ipython3",
   "version": "3.9.16"
  }
 },
 "nbformat": 4,
 "nbformat_minor": 5
}
