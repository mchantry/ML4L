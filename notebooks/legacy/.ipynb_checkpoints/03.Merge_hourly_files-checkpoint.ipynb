{
 "cells": [
  {
   "cell_type": "code",
   "execution_count": 11,
   "id": "2eebb118-a4d0-4833-8db3-fa4c07ccb56d",
   "metadata": {},
   "outputs": [],
   "source": [
    "import glob\n",
    "import pandas as pd \n",
    "path = '/network/group/aopp/predict/TIP016_PAXTON_RPSPEEDY/ML4L/ECMWF_files/raw/joined_ML_data_w_skt/'\n",
    "files = sorted(glob.glob(path+'*.pkl'))"
   ]
  },
  {
   "cell_type": "code",
   "execution_count": 3,
   "id": "8e3faf14-b115-435e-bb4d-89b475a74df2",
   "metadata": {},
   "outputs": [],
   "source": [
    "f=files[0]"
   ]
  },
  {
   "cell_type": "code",
   "execution_count": 4,
   "id": "e8d548e5-a3b0-4419-a822-6eee9d529029",
   "metadata": {},
   "outputs": [],
   "source": [
    "df = pd.read_pickle(f)"
   ]
  },
  {
   "cell_type": "code",
   "execution_count": 6,
   "id": "1d136be3-8856-4684-8b7d-39178a2533b2",
   "metadata": {},
   "outputs": [
    {
     "data": {
      "text/plain": [
       "Index(['latitude_ERA', 'longitude_ERA', 'index_MODIS', 'latitude_MODIS',\n",
       "       'longitude_MODIS', 'band', 'spatial_ref', 'MODIS_LST', 'index_ERA',\n",
       "       'values', 'sp', 'msl', 'u10', 'v10', 't2m', 'number', 'surface',\n",
       "       'aluvp', 'aluvd', 'alnip', 'alnid', 'cl', 'cvl', 'cvh', 'slt', 'sdfor',\n",
       "       'z', 'sd', 'sdor', 'isor', 'anor', 'slor', 'd2m', 'lsm', 'fal', 'skt',\n",
       "       'L2_distance', 'MODIS_idx', 'H_distance'],\n",
       "      dtype='object')"
      ]
     },
     "execution_count": 6,
     "metadata": {},
     "output_type": "execute_result"
    }
   ],
   "source": [
    "df.columns"
   ]
  },
  {
   "cell_type": "code",
   "execution_count": 10,
   "id": "b03d8da3-2552-41ea-9203-c3582a909ddb",
   "metadata": {},
   "outputs": [
    {
     "data": {
      "text/plain": [
       "'/network/group/aopp/predict/TIP016_PAXTON_RPSPEEDY/ML4L/ECMWF_files/raw/joined_ML_data_w_skt/aquaDay_2018-05-01_9H_70L_50T.pkl'"
      ]
     },
     "execution_count": 10,
     "metadata": {},
     "output_type": "execute_result"
    }
   ],
   "source": [
    "files[-1]"
   ]
  },
  {
   "cell_type": "code",
   "execution_count": 12,
   "id": "bc746f9a-5c12-4f61-bdb5-304e7f607421",
   "metadata": {},
   "outputs": [
    {
     "data": {
      "text/plain": [
       "'/network/group/aopp/predict/TIP016_PAXTON_RPSPEEDY/ML4L/ECMWF_files/raw/joined_ML_data_w_skt/aquaDay_2018-05-01_9H_70L_50T.pkl'"
      ]
     },
     "execution_count": 12,
     "metadata": {},
     "output_type": "execute_result"
    }
   ],
   "source": [
    "files[-1]"
   ]
  },
  {
   "cell_type": "code",
   "execution_count": null,
   "id": "fed181fb-edd2-4bbc-9ce8-9410da473eb4",
   "metadata": {},
   "outputs": [],
   "source": []
  }
 ],
 "metadata": {
  "kernelspec": {
   "display_name": "Python 3 (ipykernel)",
   "language": "python",
   "name": "python3"
  },
  "language_info": {
   "codemirror_mode": {
    "name": "ipython",
    "version": 3
   },
   "file_extension": ".py",
   "mimetype": "text/x-python",
   "name": "python",
   "nbconvert_exporter": "python",
   "pygments_lexer": "ipython3",
   "version": "3.7.12"
  }
 },
 "nbformat": 4,
 "nbformat_minor": 5
}
