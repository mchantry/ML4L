{
 "cells": [
  {
   "cell_type": "markdown",
   "id": "ad2ba0f5",
   "metadata": {},
   "source": [
    "# Conversion to NetCDF\n",
    "\n",
    "\n",
    "We have a bunch of `.grib` ERA files, one per month.\n",
    "\n",
    "Can we process these into NetCDF files, one per hour?\n",
    "\n",
    "---"
   ]
  },
  {
   "cell_type": "code",
   "execution_count": 11,
   "id": "52ac337b",
   "metadata": {},
   "outputs": [
    {
     "name": "stderr",
     "output_type": "stream",
     "text": [
      "Ignoring index file '/network/group/aopp/predict/TIP016_PAXTON_RPSPEEDY/ML4L/ECMWF_files/raw/ERA_skin/sfc_skin_unstructured_2018_01.grib.923a8.idx' incompatible with GRIB file\n"
     ]
    },
    {
     "name": "stdout",
     "output_type": "stream",
     "text": [
      "CPU times: user 17.9 s, sys: 3.7 s, total: 21.6 s\n",
      "Wall time: 21.6 s\n"
     ]
    }
   ],
   "source": [
    "#Load the data\n",
    "%%time \n",
    "import xarray as xr\n",
    "f = '/network/group/aopp/predict/TIP016_PAXTON_RPSPEEDY/ML4L/ECMWF_files/raw/ERA_skin/sfc_skin_unstructured_2018_01.grib'\n",
    "ds = xr.open_dataset(f,engine='cfgrib',filter_by_keys={'typeOfLevel': 'surface'})"
   ]
  },
  {
   "cell_type": "code",
   "execution_count": 18,
   "id": "0eb0f198",
   "metadata": {},
   "outputs": [],
   "source": [
    "#Relabel longitude coordinate to be consistent with MODIS\n",
    "ds_long = ds.assign_coords({\"longitude\": (((ds.longitude + 180) % 360) - 180)})"
   ]
  },
  {
   "cell_type": "code",
   "execution_count": 19,
   "id": "00433c07",
   "metadata": {},
   "outputs": [],
   "source": [
    "#Group it in time\n",
    "ds_grouped = ds_long.groupby(\"time\")"
   ]
  },
  {
   "cell_type": "code",
   "execution_count": 26,
   "id": "ee31e67e",
   "metadata": {},
   "outputs": [
    {
     "name": "stdout",
     "output_type": "stream",
     "text": [
      "/network/group/aopp/predict/TIP016_PAXTON_RPSPEEDY/ML4L/ECMWF_files/raw/sandbox/2018-01-01T00:00:00.000000000.nc\n",
      "/network/group/aopp/predict/TIP016_PAXTON_RPSPEEDY/ML4L/ECMWF_files/raw/sandbox/2018-01-01T01:00:00.000000000.nc\n",
      "/network/group/aopp/predict/TIP016_PAXTON_RPSPEEDY/ML4L/ECMWF_files/raw/sandbox/2018-01-01T02:00:00.000000000.nc\n",
      "/network/group/aopp/predict/TIP016_PAXTON_RPSPEEDY/ML4L/ECMWF_files/raw/sandbox/2018-01-01T03:00:00.000000000.nc\n",
      "/network/group/aopp/predict/TIP016_PAXTON_RPSPEEDY/ML4L/ECMWF_files/raw/sandbox/2018-01-01T04:00:00.000000000.nc\n",
      "/network/group/aopp/predict/TIP016_PAXTON_RPSPEEDY/ML4L/ECMWF_files/raw/sandbox/2018-01-01T05:00:00.000000000.nc\n"
     ]
    }
   ],
   "source": [
    "%%time\n",
    "#Output path\n",
    "path = '/network/group/aopp/predict/TIP016_PAXTON_RPSPEEDY/ML4L/ECMWF_files/raw/sandbox/'\n",
    "\n",
    "counter = 0\n",
    "for label,group in ds_grouped:    \n",
    "    outname = path+str(label)+'.nc'\n",
    "    print(outname)\n",
    "    group.to_netcdf(outname)\n",
    "\n",
    "    \n",
    "    #Exit condition\n",
    "    counter += 1\n",
    "    if counter > 5: break\n"
   ]
  },
  {
   "cell_type": "markdown",
   "id": "8939e7b2",
   "metadata": {},
   "source": [
    "---\n",
    "\n",
    "We can then open one of these files much faster:"
   ]
  },
  {
   "cell_type": "code",
   "execution_count": 27,
   "id": "b7354d80",
   "metadata": {},
   "outputs": [
    {
     "name": "stdout",
     "output_type": "stream",
     "text": [
      "CPU times: user 6.04 ms, sys: 12.8 ms, total: 18.8 ms\n",
      "Wall time: 22.1 ms\n"
     ]
    }
   ],
   "source": [
    "%%time\n",
    "ds_nc = xr.open_dataset(path+'2018-01-01T00:00:00.000000000.nc')"
   ]
  },
  {
   "cell_type": "markdown",
   "id": "63d276c7",
   "metadata": {},
   "source": [
    "---"
   ]
  },
  {
   "cell_type": "markdown",
   "id": "07e93391-486f-45b8-8577-f57b978ca48b",
   "metadata": {},
   "source": [
    "# Appendix\n",
    "\n",
    "Test script used in `scripts/convert_grib_to_netcdf.py`"
   ]
  },
  {
   "cell_type": "code",
   "execution_count": 75,
   "id": "b01ed089",
   "metadata": {},
   "outputs": [
    {
     "name": "stderr",
     "output_type": "stream",
     "text": [
      "Ignoring index file '/network/group/aopp/predict/TIP016_PAXTON_RPSPEEDY/ML4L/ECMWF_files/raw/ERA_sfc/sfc_unstructured_2018_01.grib.923a8.idx' incompatible with GRIB file\n"
     ]
    },
    {
     "name": "stdout",
     "output_type": "stream",
     "text": [
      "Processing month: /network/group/aopp/predict/TIP016_PAXTON_RPSPEEDY/ML4L/ECMWF_files/raw/ERA_sfc/NetCDF/\n",
      "/network/group/aopp/predict/TIP016_PAXTON_RPSPEEDY/ML4L/ECMWF_files/raw/ERA_sfc/NetCDF/2018-01-01T00:00:00.000000000.nc\n"
     ]
    },
    {
     "ename": "SystemExit",
     "evalue": "",
     "output_type": "error",
     "traceback": [
      "\u001b[0;31m---------------------------------------------------------------------------\u001b[0m",
      "\u001b[0;31mSystemExit\u001b[0m                                Traceback (most recent call last)",
      "\u001b[0;32m<timed exec>\u001b[0m in \u001b[0;36m<module>\u001b[0;34m\u001b[0m\n",
      "\u001b[0;32m<timed exec>\u001b[0m in \u001b[0;36mprocess_grib_file\u001b[0;34m(f, output_path)\u001b[0m\n",
      "\u001b[0;31mSystemExit\u001b[0m: "
     ]
    }
   ],
   "source": [
    "%%time\n",
    "\n",
    "def process_grib_file(f,output_path):\n",
    "    \n",
    "    #Open file\n",
    "    ds = xr.open_dataset(f,engine='cfgrib',filter_by_keys={'typeOfLevel': 'surface'})\n",
    "    \n",
    "    #Relabel longitude coordinate to be consistent with MODIS\n",
    "    ds = ds.assign_coords({\"longitude\": (((ds.longitude + 180) % 360) - 180)})\n",
    "    \n",
    "    \n",
    "    #Group it by time \n",
    "    ds_grouped = ds.groupby(\"time\")\n",
    "    \n",
    "    \n",
    "    \n",
    "    #Output path\n",
    "    \n",
    "    counter=0\n",
    "    \n",
    "    \n",
    "    for label,group in ds_grouped:    \n",
    "        outname = output_path+str(label)+'.nc'\n",
    "        print(outname)\n",
    "        sys.exit()\n",
    "        group.to_netcdf('test.nc')\n",
    "        counter += 1\n",
    "        if counter > 10: break\n",
    "    #Explictly close everything\n",
    "    ds.close()\n",
    "    del ds_grouped\n",
    "    \n",
    "    \n",
    "    \n",
    "\n",
    "        \n",
    "    \n",
    "#Paths\n",
    "root = '/network/group/aopp/predict/TIP016_PAXTON_RPSPEEDY/ML4L/ECMWF_files/raw' \n",
    "\n",
    "#Parameters\n",
    "dates = pd.date_range('2018-01-01','2020-12-01', \n",
    "              freq='MS').strftime(\"%Y-%m\").tolist()\n",
    "\n",
    "\n",
    "source = 'ERA_sfc' #'ERA_skin'\n",
    "\n",
    "if source == 'ERA_skin':\n",
    "    name = '_skin_'\n",
    "if source == 'ERA_sfc':\n",
    "    name = '_'\n",
    "\n",
    "counter = 0\n",
    "for dt in dates:\n",
    "    d=dt.replace('-','_')\n",
    "    \n",
    "    \n",
    "    \n",
    "    fname = f'{root}/{source}/sfc{name}unstructured_{d}.grib'\n",
    "    out = f'{root}/{source}/NetCDF/'\n",
    "\n",
    "    print('Processing month:', out)\n",
    "    process_grib_file(fname,out)\n",
    "    \n",
    " \n",
    "    \n",
    "    sys.exit()"
   ]
  },
  {
   "cell_type": "markdown",
   "id": "f6593497",
   "metadata": {},
   "source": [
    "---"
   ]
  },
  {
   "cell_type": "code",
   "execution_count": null,
   "id": "b1afa315",
   "metadata": {},
   "outputs": [],
   "source": []
  }
 ],
 "metadata": {
  "kernelspec": {
   "display_name": "Python 3 (ipykernel)",
   "language": "python",
   "name": "python3"
  },
  "language_info": {
   "codemirror_mode": {
    "name": "ipython",
    "version": 3
   },
   "file_extension": ".py",
   "mimetype": "text/x-python",
   "name": "python",
   "nbconvert_exporter": "python",
   "pygments_lexer": "ipython3",
   "version": "3.7.12"
  }
 },
 "nbformat": 4,
 "nbformat_minor": 5
}
