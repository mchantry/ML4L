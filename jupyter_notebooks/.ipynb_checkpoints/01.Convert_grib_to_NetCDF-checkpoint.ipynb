{
 "cells": [
  {
   "cell_type": "markdown",
   "id": "ad2ba0f5",
   "metadata": {},
   "source": [
    "# Conversion to NetCDF\n",
    "\n",
    "\n",
    "We have a bunch of `.grib` ERA files, one per month.\n",
    "\n",
    "Can we process these into NetCDF files, one per hour?\n",
    "\n",
    "---"
   ]
  },
  {
   "cell_type": "code",
   "execution_count": 11,
   "id": "52ac337b",
   "metadata": {},
   "outputs": [
    {
     "name": "stderr",
     "output_type": "stream",
     "text": [
      "Ignoring index file '/network/group/aopp/predict/TIP016_PAXTON_RPSPEEDY/ML4L/ECMWF_files/raw/ERA_skin/sfc_skin_unstructured_2018_01.grib.923a8.idx' incompatible with GRIB file\n"
     ]
    },
    {
     "name": "stdout",
     "output_type": "stream",
     "text": [
      "CPU times: user 17.9 s, sys: 3.7 s, total: 21.6 s\n",
      "Wall time: 21.6 s\n"
     ]
    }
   ],
   "source": [
    "#Load the data\n",
    "%%time \n",
    "import xarray as xr\n",
    "f = '/network/group/aopp/predict/TIP016_PAXTON_RPSPEEDY/ML4L/ECMWF_files/raw/ERA_skin/sfc_skin_unstructured_2018_01.grib'\n",
    "ds = xr.open_dataset(f,engine='cfgrib',filter_by_keys={'typeOfLevel': 'surface'})"
   ]
  },
  {
   "cell_type": "code",
   "execution_count": 18,
   "id": "0eb0f198",
   "metadata": {},
   "outputs": [],
   "source": [
    "#Relabel longitude coordinate to be consistent with MODIS\n",
    "ds_long = ds.assign_coords({\"longitude\": (((ds.longitude + 180) % 360) - 180)})"
   ]
  },
  {
   "cell_type": "code",
   "execution_count": 19,
   "id": "00433c07",
   "metadata": {},
   "outputs": [],
   "source": [
    "#Group it in time\n",
    "ds_grouped = ds_long.groupby(\"time\")"
   ]
  },
  {
   "cell_type": "code",
   "execution_count": 26,
   "id": "ee31e67e",
   "metadata": {},
   "outputs": [
    {
     "name": "stdout",
     "output_type": "stream",
     "text": [
      "/network/group/aopp/predict/TIP016_PAXTON_RPSPEEDY/ML4L/ECMWF_files/raw/sandbox/2018-01-01T00:00:00.000000000.nc\n",
      "/network/group/aopp/predict/TIP016_PAXTON_RPSPEEDY/ML4L/ECMWF_files/raw/sandbox/2018-01-01T01:00:00.000000000.nc\n",
      "/network/group/aopp/predict/TIP016_PAXTON_RPSPEEDY/ML4L/ECMWF_files/raw/sandbox/2018-01-01T02:00:00.000000000.nc\n",
      "/network/group/aopp/predict/TIP016_PAXTON_RPSPEEDY/ML4L/ECMWF_files/raw/sandbox/2018-01-01T03:00:00.000000000.nc\n",
      "/network/group/aopp/predict/TIP016_PAXTON_RPSPEEDY/ML4L/ECMWF_files/raw/sandbox/2018-01-01T04:00:00.000000000.nc\n",
      "/network/group/aopp/predict/TIP016_PAXTON_RPSPEEDY/ML4L/ECMWF_files/raw/sandbox/2018-01-01T05:00:00.000000000.nc\n"
     ]
    }
   ],
   "source": [
    "%%time\n",
    "#Output path\n",
    "path = '/network/group/aopp/predict/TIP016_PAXTON_RPSPEEDY/ML4L/ECMWF_files/raw/sandbox/'\n",
    "\n",
    "counter = 0\n",
    "for label,group in ds_grouped:    \n",
    "    outname = path+str(label)+'.nc'\n",
    "    print(outname)\n",
    "    group.to_netcdf(outname)\n",
    "\n",
    "    \n",
    "    #Exit condition\n",
    "    counter += 1\n",
    "    if counter > 5: break\n"
   ]
  },
  {
   "cell_type": "markdown",
   "id": "8939e7b2",
   "metadata": {},
   "source": [
    "---\n",
    "\n",
    "We can then open one of these files much faster:"
   ]
  },
  {
   "cell_type": "code",
   "execution_count": 27,
   "id": "b7354d80",
   "metadata": {},
   "outputs": [
    {
     "name": "stdout",
     "output_type": "stream",
     "text": [
      "CPU times: user 6.04 ms, sys: 12.8 ms, total: 18.8 ms\n",
      "Wall time: 22.1 ms\n"
     ]
    }
   ],
   "source": [
    "%%time\n",
    "ds_nc = xr.open_dataset(path+'2018-01-01T00:00:00.000000000.nc')"
   ]
  },
  {
   "cell_type": "markdown",
   "id": "2a2ec99f-8085-408e-ae13-4ee1a9446c67",
   "metadata": {},
   "source": [
    "---\n",
    "\n",
    "\n",
    "# Skin temperature checks\n"
   ]
  },
  {
   "cell_type": "code",
   "execution_count": 7,
   "id": "00d0fcb4-4246-40a3-8b76-87525c36d4dd",
   "metadata": {},
   "outputs": [
    {
     "ename": "SyntaxError",
     "evalue": "invalid syntax (<unknown>, line 6)",
     "output_type": "error",
     "traceback": [
      "Traceback \u001b[0;36m(most recent call last)\u001b[0m:\n",
      "  File \u001b[1;32m\"/home/k/kimpson/bin/conda/envs/GPU/lib/python3.7/site-packages/IPython/core/interactiveshell.py\"\u001b[0m, line \u001b[1;32m3524\u001b[0m, in \u001b[1;35mrun_code\u001b[0m\n    exec(code_obj, self.user_global_ns, self.user_ns)\n",
      "  File \u001b[1;32m\"/tmp/ipykernel_44242/1099136215.py\"\u001b[0m, line \u001b[1;32m1\u001b[0m, in \u001b[1;35m<module>\u001b[0m\n    get_ipython().run_cell_magic('time', '', '\\nimport pandas as pd\\nimport xarray as xr\\ndef process_grib_file_skt(f,output_path):\\n    \\n    #Open file\\n    ds = xr.open_dataset(f,engine=\\'cfgrib\\',filter_by_keys={\\'typeOfLevel\\': \\'surface\\'},backend_kwargs={indexpath=\\'\\'})\\n    \\n    display(ds)\\n    \\n    #Relabel longitude coordinate to be consistent with MODIS\\n    ds = ds.assign_coords({\"longitude\": (((ds.longitude + 180) % 360) - 180)})\\n    \\n    display(ds.time)\\n    \\n    #Group it by time \\n    ds_grouped = ds.groupby(\"time\")\\n    \\n    \\n    \\n    #Output path\\n    \\n    counter=0\\n    \\n    \\n    for label,group in ds_grouped:    \\n        outname = output_path+str(label)+\\'.nc\\'\\n        print(outname)\\n        sys.exit()\\n        group.to_netcdf(\\'test.nc\\')\\n        counter += 1\\n        if counter > 10: break\\n    #Explictly close everything\\n    ds.close()\\n    del ds_grouped\\n    \\n    \\n    \\n\\n        \\n    \\n#Paths\\nroot = \\'/network/group/aopp/predict/TIP016_PAXTON_RPSPEEDY/ML4L/ECMWF_files/raw\\' \\n\\n#Parameters\\ndates = pd.date_range(\\'2018-01-01\\',\\'2020-12-01\\', \\n              freq=\\'MS\\').strftime(\"%Y-%m\").tolist()\\n\\n\\nsource = \\'ERA_skt\\' #\\'ERA_skin\\'\\n\\n\\ncounter = 0\\nfor dt in dates:\\n    d=dt.replace(\\'-\\',\\'_\\')\\n    \\n    \\n    \\n    fname = f\\'{root}/{source}/skt_unstructured_{d}.grib\\'\\n    out = f\\'{root}/ERA_skt_netcdf/\\'\\n    \\n    print(fname)\\n\\n    print(\\'Processing month:\\', out)\\n    process_grib_file_skt(fname,out)\\n    \\n \\n    \\n    sys.exit()\\n')\n",
      "  File \u001b[1;32m\"/home/k/kimpson/bin/conda/envs/GPU/lib/python3.7/site-packages/IPython/core/interactiveshell.py\"\u001b[0m, line \u001b[1;32m2462\u001b[0m, in \u001b[1;35mrun_cell_magic\u001b[0m\n    result = fn(*args, **kwargs)\n",
      "  File \u001b[1;32m\"/home/k/kimpson/bin/conda/envs/GPU/lib/python3.7/site-packages/decorator.py\"\u001b[0m, line \u001b[1;32m232\u001b[0m, in \u001b[1;35mfun\u001b[0m\n    return caller(func, *(extras + args), **kw)\n",
      "  File \u001b[1;32m\"/home/k/kimpson/bin/conda/envs/GPU/lib/python3.7/site-packages/IPython/core/magic.py\"\u001b[0m, line \u001b[1;32m187\u001b[0m, in \u001b[1;35m<lambda>\u001b[0m\n    call = lambda f, *a, **k: f(*a, **k)\n",
      "  File \u001b[1;32m\"/home/k/kimpson/bin/conda/envs/GPU/lib/python3.7/site-packages/IPython/core/magics/execution.py\"\u001b[0m, line \u001b[1;32m1291\u001b[0m, in \u001b[1;35mtime\u001b[0m\n    expr_ast = self.shell.compile.ast_parse(expr)\n",
      "\u001b[0;36m  File \u001b[0;32m\"/home/k/kimpson/bin/conda/envs/GPU/lib/python3.7/site-packages/IPython/core/compilerop.py\"\u001b[0;36m, line \u001b[0;32m101\u001b[0;36m, in \u001b[0;35mast_parse\u001b[0;36m\u001b[0m\n\u001b[0;31m    return compile(source, filename, symbol, self.flags | PyCF_ONLY_AST, 1)\u001b[0m\n",
      "\u001b[0;36m  File \u001b[0;32m\"<unknown>\"\u001b[0;36m, line \u001b[0;32m6\u001b[0m\n\u001b[0;31m    ds = xr.open_dataset(f,engine='cfgrib',filter_by_keys={'typeOfLevel': 'surface'},backend_kwargs={indexpath=''})\u001b[0m\n\u001b[0m                                                                                                              ^\u001b[0m\n\u001b[0;31mSyntaxError\u001b[0m\u001b[0;31m:\u001b[0m invalid syntax\n"
     ]
    }
   ],
   "source": [
    "%%time\n",
    "\n",
    "import pandas as pd\n",
    "import xarray as xr\n",
    "def process_grib_file_skt(f,output_path):\n",
    "    \n",
    "    #Open file\n",
    "    ds = xr.open_dataset(f,engine='cfgrib',filter_by_keys={'typeOfLevel': 'surface'},backend_kwargs={'indexpath': ''})\n",
    "    \n",
    "    display(ds)\n",
    "    \n",
    "    #Relabel longitude coordinate to be consistent with MODIS\n",
    "    ds = ds.assign_coords({\"longitude\": (((ds.longitude + 180) % 360) - 180)})\n",
    "    \n",
    "    display(ds.time)\n",
    "    \n",
    "    #Group it by time \n",
    "    ds_grouped = ds.groupby(\"time\")\n",
    "    \n",
    "    \n",
    "    \n",
    "    #Output path\n",
    "    \n",
    "    counter=0\n",
    "    \n",
    "    \n",
    "    for label,group in ds_grouped:    \n",
    "        outname = output_path+str(label)+'.nc'\n",
    "        print(outname)\n",
    "        sys.exit()\n",
    "        group.to_netcdf('test.nc')\n",
    "        counter += 1\n",
    "        if counter > 10: break\n",
    "    #Explictly close everything\n",
    "    ds.close()\n",
    "    del ds_grouped\n",
    "    \n",
    "    \n",
    "    \n",
    "\n",
    "        \n",
    "    \n",
    "#Paths\n",
    "root = '/network/group/aopp/predict/TIP016_PAXTON_RPSPEEDY/ML4L/ECMWF_files/raw' \n",
    "\n",
    "#Parameters\n",
    "dates = pd.date_range('2018-01-01','2020-12-01', \n",
    "              freq='MS').strftime(\"%Y-%m\").tolist()\n",
    "\n",
    "\n",
    "source = 'ERA_skt' #'ERA_skin'\n",
    "\n",
    "\n",
    "counter = 0\n",
    "for dt in dates:\n",
    "    d=dt.replace('-','_')\n",
    "    \n",
    "    \n",
    "    \n",
    "    fname = f'{root}/{source}/skt_unstructured_{d}.grib'\n",
    "    out = f'{root}/ERA_skt_netcdf/'\n",
    "    \n",
    "    print(fname)\n",
    "\n",
    "    print('Processing month:', out)\n",
    "    process_grib_file_skt(fname,out)\n",
    "    \n",
    " \n",
    "    \n",
    "    sys.exit()"
   ]
  },
  {
   "cell_type": "markdown",
   "id": "63d276c7",
   "metadata": {},
   "source": [
    "---"
   ]
  },
  {
   "cell_type": "markdown",
   "id": "07e93391-486f-45b8-8577-f57b978ca48b",
   "metadata": {},
   "source": [
    "# Appendix\n",
    "\n",
    "Test script used in `scripts/convert_grib_to_netcdf.py`"
   ]
  },
  {
   "cell_type": "code",
   "execution_count": 75,
   "id": "b01ed089",
   "metadata": {},
   "outputs": [
    {
     "name": "stderr",
     "output_type": "stream",
     "text": [
      "Ignoring index file '/network/group/aopp/predict/TIP016_PAXTON_RPSPEEDY/ML4L/ECMWF_files/raw/ERA_sfc/sfc_unstructured_2018_01.grib.923a8.idx' incompatible with GRIB file\n"
     ]
    },
    {
     "name": "stdout",
     "output_type": "stream",
     "text": [
      "Processing month: /network/group/aopp/predict/TIP016_PAXTON_RPSPEEDY/ML4L/ECMWF_files/raw/ERA_sfc/NetCDF/\n",
      "/network/group/aopp/predict/TIP016_PAXTON_RPSPEEDY/ML4L/ECMWF_files/raw/ERA_sfc/NetCDF/2018-01-01T00:00:00.000000000.nc\n"
     ]
    },
    {
     "ename": "SystemExit",
     "evalue": "",
     "output_type": "error",
     "traceback": [
      "\u001b[0;31m---------------------------------------------------------------------------\u001b[0m",
      "\u001b[0;31mSystemExit\u001b[0m                                Traceback (most recent call last)",
      "\u001b[0;32m<timed exec>\u001b[0m in \u001b[0;36m<module>\u001b[0;34m\u001b[0m\n",
      "\u001b[0;32m<timed exec>\u001b[0m in \u001b[0;36mprocess_grib_file\u001b[0;34m(f, output_path)\u001b[0m\n",
      "\u001b[0;31mSystemExit\u001b[0m: "
     ]
    }
   ],
   "source": [
    "%%time\n",
    "\n",
    "def process_grib_file(f,output_path):\n",
    "    \n",
    "    #Open file\n",
    "    ds = xr.open_dataset(f,engine='cfgrib',filter_by_keys={'typeOfLevel': 'surface'})\n",
    "    \n",
    "    #Relabel longitude coordinate to be consistent with MODIS\n",
    "    ds = ds.assign_coords({\"longitude\": (((ds.longitude + 180) % 360) - 180)})\n",
    "    \n",
    "    \n",
    "    #Group it by time \n",
    "    ds_grouped = ds.groupby(\"time\")\n",
    "    \n",
    "    \n",
    "    \n",
    "    #Output path\n",
    "    \n",
    "    counter=0\n",
    "    \n",
    "    \n",
    "    for label,group in ds_grouped:    \n",
    "        outname = output_path+str(label)+'.nc'\n",
    "        print(outname)\n",
    "        sys.exit()\n",
    "        group.to_netcdf('test.nc')\n",
    "        counter += 1\n",
    "        if counter > 10: break\n",
    "    #Explictly close everything\n",
    "    ds.close()\n",
    "    del ds_grouped\n",
    "    \n",
    "    \n",
    "    \n",
    "\n",
    "        \n",
    "    \n",
    "#Paths\n",
    "root = '/network/group/aopp/predict/TIP016_PAXTON_RPSPEEDY/ML4L/ECMWF_files/raw' \n",
    "\n",
    "#Parameters\n",
    "dates = pd.date_range('2018-01-01','2020-12-01', \n",
    "              freq='MS').strftime(\"%Y-%m\").tolist()\n",
    "\n",
    "\n",
    "source = 'ERA_sfc' #'ERA_skin'\n",
    "\n",
    "if source == 'ERA_skin':\n",
    "    name = '_skin_'\n",
    "if source == 'ERA_sfc':\n",
    "    name = '_'\n",
    "\n",
    "counter = 0\n",
    "for dt in dates:\n",
    "    d=dt.replace('-','_')\n",
    "    \n",
    "    \n",
    "    \n",
    "    fname = f'{root}/{source}/sfc{name}unstructured_{d}.grib'\n",
    "    out = f'{root}/{source}/NetCDF/'\n",
    "\n",
    "    print('Processing month:', out)\n",
    "    process_grib_file(fname,out)\n",
    "    \n",
    " \n",
    "    \n",
    "    sys.exit()"
   ]
  },
  {
   "cell_type": "markdown",
   "id": "f6593497",
   "metadata": {},
   "source": [
    "---"
   ]
  },
  {
   "cell_type": "code",
   "execution_count": null,
   "id": "b1afa315",
   "metadata": {},
   "outputs": [],
   "source": []
  }
 ],
 "metadata": {
  "kernelspec": {
   "display_name": "Python 3 (ipykernel)",
   "language": "python",
   "name": "python3"
  },
  "language_info": {
   "codemirror_mode": {
    "name": "ipython",
    "version": 3
   },
   "file_extension": ".py",
   "mimetype": "text/x-python",
   "name": "python",
   "nbconvert_exporter": "python",
   "pygments_lexer": "ipython3",
   "version": "3.7.12"
  }
 },
 "nbformat": 4,
 "nbformat_minor": 5
}
